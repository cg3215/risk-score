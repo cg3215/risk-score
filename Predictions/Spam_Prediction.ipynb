{
 "cells": [
  {
   "cell_type": "markdown",
   "id": "e5e01dbc",
   "metadata": {},
   "source": [
    "Description: Spam Rate Predictions\n",
    "\n",
    "Author: Elena (Chaoran) Gou\n",
    "\n",
    "Last Update: 08/14/2021"
   ]
  },
  {
   "cell_type": "code",
   "execution_count": 1,
   "id": "beb90df3",
   "metadata": {},
   "outputs": [
    {
     "name": "stderr",
     "output_type": "stream",
     "text": [
      "/Users/egou/.pyenv/versions/3.9.5/lib/python3.9/site-packages/pandas/compat/__init__.py:97: UserWarning: Could not import the lzma module. Your installed Python is incomplete. Attempting to use lzma compression will result in a RuntimeError.\n",
      "  warnings.warn(msg)\n"
     ]
    }
   ],
   "source": [
    "import pandas as pd\n",
    "import numpy as np\n",
    "\n",
    "import sys\n",
    "import warnings\n",
    "warnings.filterwarnings('ignore')\n",
    "import matplotlib.pyplot as plt\n",
    "from matplotlib.legend_handler import HandlerLine2D\n",
    "import seaborn as sns\n",
    "\n",
    "import statsmodels.formula.api as smf\n",
    "import statsmodels.api as sm\n",
    "from statsmodels.sandbox.regression.predstd import wls_prediction_std\n",
    "\n",
    "from sklearn.model_selection import train_test_split, cross_val_predict, GridSearchCV\n",
    "from sklearn.preprocessing import StandardScaler\n",
    "from sklearn.tree import DecisionTreeRegressor\n",
    "from sklearn.ensemble import RandomForestRegressor, BaggingRegressor, GradientBoostingRegressor\n",
    "from sklearn import metrics\n",
    "from sklearn.neighbors import KNeighborsRegressor\n",
    "from sklearn.inspection import permutation_importance\n",
    "from sklearn.neural_network import MLPRegressor\n",
    "from sklearn.svm import SVR\n",
    "\n",
    "np.random.seed(2000)"
   ]
  },
  {
   "cell_type": "code",
   "execution_count": 2,
   "id": "4d2e68d1",
   "metadata": {},
   "outputs": [],
   "source": [
    "### Twilio brand colors: https://www.twilio.com/brand/resources/colorresources\n",
    "\n",
    "# Primary Twilio brand colors\n",
    "tw_red = '#F22F46'\n",
    "night = '#001489'\n",
    "\n",
    "# Secondary Twilio brand colors\n",
    "blue = '#008CFF' # blue_50\n",
    "green = '#36D576' # green_50\n",
    "tangerine = '#F47C22' \n",
    "yellow = '#FFDD35' #yellow_40\n",
    "purple = '#8C5BD8' #purple_50\n",
    "\n",
    "# extended pallete\n",
    "gray_30 = '#CACDD8' \n",
    "red_30 = '#f6b1b1' \n",
    "orange_30 = '#FAC2A0' \n",
    "green_30 = '#A2F6C3'\n",
    "blue_30 = '#99CDFF'\n",
    "purple_30 = '#C8AFF0'\n",
    "gray_70 = '#4B5671'\n",
    "red_70 = '#ad1111'\n",
    "orange_70 = '#C35323'\n",
    "green_70 = '#0E7C3A'\n",
    "blue_70 = '#043CB5'\n",
    "yellow_70 = '#C28E00'\n",
    "purple_70 = '#5817BD'\n",
    "\n",
    "teal = '#00BCD4'\n",
    "mauve = '##DEA7E8'\n",
    "\n",
    "charting_colors = [blue, green, tangerine, purple, yellow, tw_red, night, \n",
    "                   gray_30, red_30, blue_30, orange_30, green_30, purple_30,\n",
    "                   gray_70, red_70, blue_70, orange_70, green_70, purple_70]\n",
    "\n",
    "#'#FF5722', '#FA9950', '#FAD100', '#4CB04F', '#36D576', '#303F9F', '#2196F3', '#00BCD4', '#00E5FF', '#7B1FA2', '#7C4DFF', '#880E4F', '#DEA7E8', '#FF4081', '#9E9E9E'\n",
    "\n",
    "\n",
    "# Twilio fonts\n",
    "fonts = ['Helvetica Neue', 'Helvetica', 'Arial', 'sans-serif']\n",
    "\n",
    "# set colors and fonts\n",
    "sns.set_style('ticks', {'axes.linewidth': 2., 'font.sans-serif': fonts, 'font.family': 'Helvetica Neue'})\n",
    "plt.rc('figure', figsize=(16, 10))\n",
    "sns.set_context('poster', font_scale=1.0)\n",
    "sns.set_palette(charting_colors)"
   ]
  },
  {
   "cell_type": "code",
   "execution_count": 3,
   "id": "5f39c215",
   "metadata": {},
   "outputs": [
    {
     "data": {
      "text/html": [
       "<div>\n",
       "<style scoped>\n",
       "    .dataframe tbody tr th:only-of-type {\n",
       "        vertical-align: middle;\n",
       "    }\n",
       "\n",
       "    .dataframe tbody tr th {\n",
       "        vertical-align: top;\n",
       "    }\n",
       "\n",
       "    .dataframe thead th {\n",
       "        text-align: right;\n",
       "    }\n",
       "</style>\n",
       "<table border=\"1\" class=\"dataframe\">\n",
       "  <thead>\n",
       "    <tr style=\"text-align: right;\">\n",
       "      <th></th>\n",
       "      <th>attempted</th>\n",
       "      <th>account_sid</th>\n",
       "      <th>delivered</th>\n",
       "      <th>optouts</th>\n",
       "      <th>_7726</th>\n",
       "      <th>unreachable</th>\n",
       "      <th>_30007</th>\n",
       "      <th>_30008</th>\n",
       "      <th>_21610</th>\n",
       "      <th>aup</th>\n",
       "      <th>...</th>\n",
       "      <th>friendly_name</th>\n",
       "      <th>default_name</th>\n",
       "      <th>optout_perc</th>\n",
       "      <th>_7726_perc</th>\n",
       "      <th>_30008_perc</th>\n",
       "      <th>_30007_perc</th>\n",
       "      <th>_21610_perc</th>\n",
       "      <th>unreachable_perc</th>\n",
       "      <th>aup_perc</th>\n",
       "      <th>fraud_perc</th>\n",
       "    </tr>\n",
       "  </thead>\n",
       "  <tbody>\n",
       "    <tr>\n",
       "      <th>0</th>\n",
       "      <td>291830197</td>\n",
       "      <td>AC0c4da9c0a8c20ea8890c2ca186768bed</td>\n",
       "      <td>279827613.0</td>\n",
       "      <td>0.0</td>\n",
       "      <td>383.0</td>\n",
       "      <td>10232167</td>\n",
       "      <td>677429</td>\n",
       "      <td>671412</td>\n",
       "      <td>3538</td>\n",
       "      <td>0.0</td>\n",
       "      <td>...</td>\n",
       "      <td>us-east-1</td>\n",
       "      <td>0.0</td>\n",
       "      <td>0.000000</td>\n",
       "      <td>0.000001</td>\n",
       "      <td>0.002301</td>\n",
       "      <td>0.002321</td>\n",
       "      <td>0.000012</td>\n",
       "      <td>0.035062</td>\n",
       "      <td>0.0</td>\n",
       "      <td>0.0</td>\n",
       "    </tr>\n",
       "    <tr>\n",
       "      <th>1</th>\n",
       "      <td>770805</td>\n",
       "      <td>ACbdccf1d7b857189e72fdb51c878d34db</td>\n",
       "      <td>768406.0</td>\n",
       "      <td>0.0</td>\n",
       "      <td>0.0</td>\n",
       "      <td>1674</td>\n",
       "      <td>0</td>\n",
       "      <td>725</td>\n",
       "      <td>0</td>\n",
       "      <td>0.0</td>\n",
       "      <td>...</td>\n",
       "      <td>Samsung</td>\n",
       "      <td>0.0</td>\n",
       "      <td>0.000000</td>\n",
       "      <td>0.000000</td>\n",
       "      <td>0.000941</td>\n",
       "      <td>0.000000</td>\n",
       "      <td>0.000000</td>\n",
       "      <td>0.002172</td>\n",
       "      <td>0.0</td>\n",
       "      <td>0.0</td>\n",
       "    </tr>\n",
       "    <tr>\n",
       "      <th>2</th>\n",
       "      <td>92827</td>\n",
       "      <td>AC21e3df471603c934315eb61694a18ab2</td>\n",
       "      <td>90908.0</td>\n",
       "      <td>1.0</td>\n",
       "      <td>0.0</td>\n",
       "      <td>935</td>\n",
       "      <td>0</td>\n",
       "      <td>984</td>\n",
       "      <td>0</td>\n",
       "      <td>0.0</td>\n",
       "      <td>...</td>\n",
       "      <td>j.teichert@vivenu.com's Account</td>\n",
       "      <td>0.0</td>\n",
       "      <td>0.000011</td>\n",
       "      <td>0.000000</td>\n",
       "      <td>0.010600</td>\n",
       "      <td>0.000000</td>\n",
       "      <td>0.000000</td>\n",
       "      <td>0.010073</td>\n",
       "      <td>0.0</td>\n",
       "      <td>0.0</td>\n",
       "    </tr>\n",
       "    <tr>\n",
       "      <th>3</th>\n",
       "      <td>4682</td>\n",
       "      <td>AC4be872f5cb700cf41676089db563bbc9</td>\n",
       "      <td>4518.0</td>\n",
       "      <td>0.0</td>\n",
       "      <td>0.0</td>\n",
       "      <td>158</td>\n",
       "      <td>3</td>\n",
       "      <td>2</td>\n",
       "      <td>0</td>\n",
       "      <td>0.0</td>\n",
       "      <td>...</td>\n",
       "      <td>Meevo M2NA0_ T10713-Tenant: 45206</td>\n",
       "      <td>0.0</td>\n",
       "      <td>0.000000</td>\n",
       "      <td>0.000000</td>\n",
       "      <td>0.000427</td>\n",
       "      <td>0.000641</td>\n",
       "      <td>0.000000</td>\n",
       "      <td>0.033746</td>\n",
       "      <td>0.0</td>\n",
       "      <td>0.0</td>\n",
       "    </tr>\n",
       "    <tr>\n",
       "      <th>4</th>\n",
       "      <td>25605</td>\n",
       "      <td>AC4cac4fec76a9decc2838641318025fa6</td>\n",
       "      <td>22138.0</td>\n",
       "      <td>327.0</td>\n",
       "      <td>3.0</td>\n",
       "      <td>3432</td>\n",
       "      <td>9</td>\n",
       "      <td>26</td>\n",
       "      <td>0</td>\n",
       "      <td>0.0</td>\n",
       "      <td>...</td>\n",
       "      <td>k.morrisonhealthadvisor@gmail.com</td>\n",
       "      <td>0.0</td>\n",
       "      <td>0.014771</td>\n",
       "      <td>0.000136</td>\n",
       "      <td>0.001015</td>\n",
       "      <td>0.000351</td>\n",
       "      <td>0.000000</td>\n",
       "      <td>0.134036</td>\n",
       "      <td>0.0</td>\n",
       "      <td>0.0</td>\n",
       "    </tr>\n",
       "  </tbody>\n",
       "</table>\n",
       "<p>5 rows × 26 columns</p>\n",
       "</div>"
      ],
      "text/plain": [
       "   attempted                         account_sid    delivered  optouts  _7726  \\\n",
       "0  291830197  AC0c4da9c0a8c20ea8890c2ca186768bed  279827613.0      0.0  383.0   \n",
       "1     770805  ACbdccf1d7b857189e72fdb51c878d34db     768406.0      0.0    0.0   \n",
       "2      92827  AC21e3df471603c934315eb61694a18ab2      90908.0      1.0    0.0   \n",
       "3       4682  AC4be872f5cb700cf41676089db563bbc9       4518.0      0.0    0.0   \n",
       "4      25605  AC4cac4fec76a9decc2838641318025fa6      22138.0    327.0    3.0   \n",
       "\n",
       "   unreachable  _30007  _30008  _21610  aup  ...  \\\n",
       "0     10232167  677429  671412    3538  0.0  ...   \n",
       "1         1674       0     725       0  0.0  ...   \n",
       "2          935       0     984       0  0.0  ...   \n",
       "3          158       3       2       0  0.0  ...   \n",
       "4         3432       9      26       0  0.0  ...   \n",
       "\n",
       "                       friendly_name  default_name  optout_perc  _7726_perc  \\\n",
       "0                          us-east-1           0.0     0.000000    0.000001   \n",
       "1                            Samsung           0.0     0.000000    0.000000   \n",
       "2    j.teichert@vivenu.com's Account           0.0     0.000011    0.000000   \n",
       "3  Meevo M2NA0_ T10713-Tenant: 45206           0.0     0.000000    0.000000   \n",
       "4  k.morrisonhealthadvisor@gmail.com           0.0     0.014771    0.000136   \n",
       "\n",
       "   _30008_perc  _30007_perc _21610_perc  unreachable_perc  aup_perc  \\\n",
       "0     0.002301     0.002321    0.000012          0.035062       0.0   \n",
       "1     0.000941     0.000000    0.000000          0.002172       0.0   \n",
       "2     0.010600     0.000000    0.000000          0.010073       0.0   \n",
       "3     0.000427     0.000641    0.000000          0.033746       0.0   \n",
       "4     0.001015     0.000351    0.000000          0.134036       0.0   \n",
       "\n",
       "   fraud_perc  \n",
       "0         0.0  \n",
       "1         0.0  \n",
       "2         0.0  \n",
       "3         0.0  \n",
       "4         0.0  \n",
       "\n",
       "[5 rows x 26 columns]"
      ]
     },
     "execution_count": 3,
     "metadata": {},
     "output_type": "execute_result"
    }
   ],
   "source": [
    "account = pd.read_csv('feature_engineered_May.csv')\n",
    "account.head()"
   ]
  },
  {
   "cell_type": "code",
   "execution_count": 4,
   "id": "0d0a2d14",
   "metadata": {},
   "outputs": [
    {
     "data": {
      "text/html": [
       "<div>\n",
       "<style scoped>\n",
       "    .dataframe tbody tr th:only-of-type {\n",
       "        vertical-align: middle;\n",
       "    }\n",
       "\n",
       "    .dataframe tbody tr th {\n",
       "        vertical-align: top;\n",
       "    }\n",
       "\n",
       "    .dataframe thead th {\n",
       "        text-align: right;\n",
       "    }\n",
       "</style>\n",
       "<table border=\"1\" class=\"dataframe\">\n",
       "  <thead>\n",
       "    <tr style=\"text-align: right;\">\n",
       "      <th></th>\n",
       "      <th>attempted</th>\n",
       "      <th>account_sid</th>\n",
       "      <th>delivered</th>\n",
       "      <th>optouts</th>\n",
       "      <th>_7726</th>\n",
       "      <th>cannabis</th>\n",
       "      <th>unreachable</th>\n",
       "      <th>_30007</th>\n",
       "      <th>_30008</th>\n",
       "      <th>_21610</th>\n",
       "      <th>...</th>\n",
       "      <th>_30008_perc</th>\n",
       "      <th>_30007_perc</th>\n",
       "      <th>_21610_perc</th>\n",
       "      <th>unreachable_perc</th>\n",
       "      <th>aup_perc</th>\n",
       "      <th>fraud_perc</th>\n",
       "      <th>age</th>\n",
       "      <th>parent</th>\n",
       "      <th>isv</th>\n",
       "      <th>fam_size</th>\n",
       "    </tr>\n",
       "  </thead>\n",
       "  <tbody>\n",
       "    <tr>\n",
       "      <th>0</th>\n",
       "      <td>26038</td>\n",
       "      <td>AC9f3116fcac59b5b68a451cba28f5a731</td>\n",
       "      <td>23407.0</td>\n",
       "      <td>1354.0</td>\n",
       "      <td>1.0</td>\n",
       "      <td>0</td>\n",
       "      <td>15</td>\n",
       "      <td>0</td>\n",
       "      <td>2616</td>\n",
       "      <td>0</td>\n",
       "      <td>...</td>\n",
       "      <td>0.100469</td>\n",
       "      <td>0.000000</td>\n",
       "      <td>0.000000</td>\n",
       "      <td>0.000576</td>\n",
       "      <td>0.0</td>\n",
       "      <td>0.0</td>\n",
       "      <td>5</td>\n",
       "      <td>1</td>\n",
       "      <td>1</td>\n",
       "      <td>682</td>\n",
       "    </tr>\n",
       "    <tr>\n",
       "      <th>1</th>\n",
       "      <td>536793</td>\n",
       "      <td>AC06ea2a0e2f80d342b45f46e42571dd02</td>\n",
       "      <td>504624.0</td>\n",
       "      <td>479.0</td>\n",
       "      <td>0.0</td>\n",
       "      <td>0</td>\n",
       "      <td>31670</td>\n",
       "      <td>183</td>\n",
       "      <td>316</td>\n",
       "      <td>0</td>\n",
       "      <td>...</td>\n",
       "      <td>0.000589</td>\n",
       "      <td>0.000341</td>\n",
       "      <td>0.000000</td>\n",
       "      <td>0.058999</td>\n",
       "      <td>0.0</td>\n",
       "      <td>0.0</td>\n",
       "      <td>68</td>\n",
       "      <td>0</td>\n",
       "      <td>0</td>\n",
       "      <td>3</td>\n",
       "    </tr>\n",
       "    <tr>\n",
       "      <th>2</th>\n",
       "      <td>2278</td>\n",
       "      <td>AC9d6d9155f700898c3f4fb05c4e90188b</td>\n",
       "      <td>2240.0</td>\n",
       "      <td>0.0</td>\n",
       "      <td>0.0</td>\n",
       "      <td>0</td>\n",
       "      <td>4</td>\n",
       "      <td>0</td>\n",
       "      <td>27</td>\n",
       "      <td>0</td>\n",
       "      <td>...</td>\n",
       "      <td>0.011853</td>\n",
       "      <td>0.000000</td>\n",
       "      <td>0.000000</td>\n",
       "      <td>0.001756</td>\n",
       "      <td>0.0</td>\n",
       "      <td>0.0</td>\n",
       "      <td>31</td>\n",
       "      <td>0</td>\n",
       "      <td>0</td>\n",
       "      <td>1</td>\n",
       "    </tr>\n",
       "    <tr>\n",
       "      <th>3</th>\n",
       "      <td>22281</td>\n",
       "      <td>ACac15107fc288db00551d7d26bc4cc764</td>\n",
       "      <td>19295.0</td>\n",
       "      <td>132.0</td>\n",
       "      <td>0.0</td>\n",
       "      <td>0</td>\n",
       "      <td>1191</td>\n",
       "      <td>0</td>\n",
       "      <td>266</td>\n",
       "      <td>1475</td>\n",
       "      <td>...</td>\n",
       "      <td>0.011938</td>\n",
       "      <td>0.000000</td>\n",
       "      <td>0.066200</td>\n",
       "      <td>0.053454</td>\n",
       "      <td>0.0</td>\n",
       "      <td>0.0</td>\n",
       "      <td>68</td>\n",
       "      <td>0</td>\n",
       "      <td>0</td>\n",
       "      <td>7</td>\n",
       "    </tr>\n",
       "    <tr>\n",
       "      <th>4</th>\n",
       "      <td>550054</td>\n",
       "      <td>AC55880b122abfcb40df3510b02f02ed9e</td>\n",
       "      <td>521606.0</td>\n",
       "      <td>0.0</td>\n",
       "      <td>0.0</td>\n",
       "      <td>0</td>\n",
       "      <td>27300</td>\n",
       "      <td>1</td>\n",
       "      <td>582</td>\n",
       "      <td>142</td>\n",
       "      <td>...</td>\n",
       "      <td>0.001058</td>\n",
       "      <td>0.000002</td>\n",
       "      <td>0.000258</td>\n",
       "      <td>0.049631</td>\n",
       "      <td>0.0</td>\n",
       "      <td>0.0</td>\n",
       "      <td>20</td>\n",
       "      <td>1</td>\n",
       "      <td>1</td>\n",
       "      <td>82</td>\n",
       "    </tr>\n",
       "  </tbody>\n",
       "</table>\n",
       "<p>5 rows × 26 columns</p>\n",
       "</div>"
      ],
      "text/plain": [
       "   attempted                         account_sid  delivered  optouts  _7726  \\\n",
       "0      26038  AC9f3116fcac59b5b68a451cba28f5a731    23407.0   1354.0    1.0   \n",
       "1     536793  AC06ea2a0e2f80d342b45f46e42571dd02   504624.0    479.0    0.0   \n",
       "2       2278  AC9d6d9155f700898c3f4fb05c4e90188b     2240.0      0.0    0.0   \n",
       "3      22281  ACac15107fc288db00551d7d26bc4cc764    19295.0    132.0    0.0   \n",
       "4     550054  AC55880b122abfcb40df3510b02f02ed9e   521606.0      0.0    0.0   \n",
       "\n",
       "   cannabis  unreachable  _30007  _30008  _21610  ...  _30008_perc  \\\n",
       "0         0           15       0    2616       0  ...     0.100469   \n",
       "1         0        31670     183     316       0  ...     0.000589   \n",
       "2         0            4       0      27       0  ...     0.011853   \n",
       "3         0         1191       0     266    1475  ...     0.011938   \n",
       "4         0        27300       1     582     142  ...     0.001058   \n",
       "\n",
       "   _30007_perc _21610_perc  unreachable_perc  aup_perc  fraud_perc  age  \\\n",
       "0     0.000000    0.000000          0.000576       0.0         0.0    5   \n",
       "1     0.000341    0.000000          0.058999       0.0         0.0   68   \n",
       "2     0.000000    0.000000          0.001756       0.0         0.0   31   \n",
       "3     0.000000    0.066200          0.053454       0.0         0.0   68   \n",
       "4     0.000002    0.000258          0.049631       0.0         0.0   20   \n",
       "\n",
       "   parent  isv  fam_size  \n",
       "0       1    1       682  \n",
       "1       0    0         3  \n",
       "2       0    0         1  \n",
       "3       0    0         7  \n",
       "4       1    1        82  \n",
       "\n",
       "[5 rows x 26 columns]"
      ]
     },
     "execution_count": 4,
     "metadata": {},
     "output_type": "execute_result"
    }
   ],
   "source": [
    "june = pd.read_csv('feature_engineered_June.csv')\n",
    "june.head()"
   ]
  },
  {
   "cell_type": "markdown",
   "id": "21d44e0b",
   "metadata": {},
   "source": [
    "### Decision Tree"
   ]
  },
  {
   "cell_type": "code",
   "execution_count": 5,
   "id": "581d0ebe",
   "metadata": {},
   "outputs": [],
   "source": [
    "feature_perc = ['age','isv','parent','unreachable_perc','default_name',\n",
    "       '_30007_perc', '_21610_perc', '_30008_perc', \n",
    "       'aup_perc','fraud_perc','cannabis','fam_size']"
   ]
  },
  {
   "cell_type": "code",
   "execution_count": 6,
   "id": "2ef28c07",
   "metadata": {},
   "outputs": [],
   "source": [
    "#Train test split\n",
    "train, test = train_test_split(account, test_size=0.3)\n",
    "x_train = train[feature_perc]\n",
    "y_train = train['_7726_perc']\n",
    "\n",
    "x_test = test[feature_perc]\n",
    "y_test = test['_7726_perc']\n",
    "\n",
    "#Create prediction data\n",
    "X=june[feature_perc]\n",
    "y=june['_7726_perc']\n",
    "\n",
    "#Generate values to calculate mean RMSE\n",
    "y_bar = [y.mean()]*len(y)\n",
    "train_bar = [y_train.mean()]*len(y_train)\n",
    "test_bar = [y_test.mean()]*len(y_test)"
   ]
  },
  {
   "cell_type": "markdown",
   "id": "b91e1b9c",
   "metadata": {},
   "source": [
    "https://medium.com/@mohtedibf/indepth-parameter-tuning-for-decision-tree-6753118a03c3"
   ]
  },
  {
   "cell_type": "code",
   "execution_count": 7,
   "id": "79f3d4b3",
   "metadata": {},
   "outputs": [
    {
     "data": {
      "image/png": "[encoded data removed]",
      "text/plain": [
       "<Figure size 1152x720 with 1 Axes>"
      ]
     },
     "metadata": {},
     "output_type": "display_data"
    }
   ],
   "source": [
    "index = np.linspace(1, 50, 50, endpoint=True)\n",
    "result = pd.DataFrame(index = index, columns=('train_results', 'test_results'))\n",
    "for max_depth in index:\n",
    "   dt = DecisionTreeRegressor(max_depth=max_depth)\n",
    "   dt.fit(x_train, y_train)\n",
    "   train_pred = dt.predict(x_train)\n",
    "   # Add rmse\n",
    "   result.at[max_depth,'train_results']=np.sqrt(metrics.mean_squared_error(y_train, train_pred))\n",
    "   test_pred = dt.predict(x_test)\n",
    "   result.at[max_depth,'test_results']=np.sqrt(metrics.mean_squared_error(y_test, test_pred))\n",
    "\n",
    "# Plotting RMSE for different tree depths\n",
    "line1, = plt.plot(index, result['train_results'], label='Train RMSE')\n",
    "line2, = plt.plot(index, result['test_results'], label='Test RMSE')\n",
    "plt.legend(handler_map={line1: HandlerLine2D(numpoints=2)})\n",
    "plt.title('RMSE for Different Max Depth')\n",
    "plt.ylabel('RMSE')\n",
    "plt.xlabel('Tree depth')\n",
    "plt.show()"
   ]
  },
  {
   "cell_type": "code",
   "execution_count": 9,
   "id": "d72004be",
   "metadata": {},
   "outputs": [
    {
     "name": "stdout",
     "output_type": "stream",
     "text": [
      "Root Mean Squared Error w mean: 0.00011354923989481513\n",
      "Optimal Max Depth: 6\n",
      "Smallest RMSE: 0.00020655647237283995\n"
     ]
    }
   ],
   "source": [
    "result['test_results'] = pd.to_numeric(result['test_results'])\n",
    "print('Root Mean Squared Error w mean:', np.sqrt(metrics.mean_squared_error(y, y_bar)))\n",
    "optimal_dep = result['test_results'].idxmin()\n",
    "print(\"Optimal Max Depth: \",optimal_dep)\n",
    "print(\"Smallest RMSE: \",min(result['test_results']))"
   ]
  },
  {
   "cell_type": "code",
   "execution_count": 27,
   "id": "8b34f5cb",
   "metadata": {},
   "outputs": [
    {
     "data": {
      "text/plain": [
       "DecisionTreeRegressor(max_depth=6, random_state=0)"
      ]
     },
     "execution_count": 27,
     "metadata": {},
     "output_type": "execute_result"
    }
   ],
   "source": [
    "#Tree depth of 6 has the best result\n",
    "regr = tree.DecisionTreeRegressor(max_depth=optimal_dep,random_state=0)\n",
    "regr.fit(x_train,y_train)"
   ]
  },
  {
   "cell_type": "code",
   "execution_count": 28,
   "id": "40588738",
   "metadata": {},
   "outputs": [
    {
     "data": {
      "text/plain": [
       "0.6923676270999933"
      ]
     },
     "execution_count": 28,
     "metadata": {},
     "output_type": "execute_result"
    }
   ],
   "source": [
    "#R-squared\n",
    "regr.score(x_train,y_train)"
   ]
  },
  {
   "cell_type": "code",
   "execution_count": 29,
   "id": "7101d84a",
   "metadata": {},
   "outputs": [
    {
     "data": {
      "text/plain": [
       "0.10937147854419182"
      ]
     },
     "execution_count": 29,
     "metadata": {},
     "output_type": "execute_result"
    }
   ],
   "source": [
    "regr.score(x_test,y_test)"
   ]
  },
  {
   "cell_type": "code",
   "execution_count": 30,
   "id": "ac9e865f",
   "metadata": {},
   "outputs": [
    {
     "data": {
      "text/html": [
       "<div>\n",
       "<style scoped>\n",
       "    .dataframe tbody tr th:only-of-type {\n",
       "        vertical-align: middle;\n",
       "    }\n",
       "\n",
       "    .dataframe tbody tr th {\n",
       "        vertical-align: top;\n",
       "    }\n",
       "\n",
       "    .dataframe thead th {\n",
       "        text-align: right;\n",
       "    }\n",
       "</style>\n",
       "<table border=\"1\" class=\"dataframe\">\n",
       "  <thead>\n",
       "    <tr style=\"text-align: right;\">\n",
       "      <th></th>\n",
       "      <th>feature</th>\n",
       "      <th>importance</th>\n",
       "    </tr>\n",
       "  </thead>\n",
       "  <tbody>\n",
       "    <tr>\n",
       "      <th>0</th>\n",
       "      <td>age</td>\n",
       "      <td>0.456613</td>\n",
       "    </tr>\n",
       "    <tr>\n",
       "      <th>5</th>\n",
       "      <td>_30007_perc</td>\n",
       "      <td>0.357876</td>\n",
       "    </tr>\n",
       "    <tr>\n",
       "      <th>11</th>\n",
       "      <td>fam_size</td>\n",
       "      <td>0.145153</td>\n",
       "    </tr>\n",
       "    <tr>\n",
       "      <th>3</th>\n",
       "      <td>unreachable_perc</td>\n",
       "      <td>0.033268</td>\n",
       "    </tr>\n",
       "    <tr>\n",
       "      <th>7</th>\n",
       "      <td>_30008_perc</td>\n",
       "      <td>0.005838</td>\n",
       "    </tr>\n",
       "    <tr>\n",
       "      <th>6</th>\n",
       "      <td>_21610_perc</td>\n",
       "      <td>0.001252</td>\n",
       "    </tr>\n",
       "    <tr>\n",
       "      <th>1</th>\n",
       "      <td>isv</td>\n",
       "      <td>0.000000</td>\n",
       "    </tr>\n",
       "    <tr>\n",
       "      <th>2</th>\n",
       "      <td>parent</td>\n",
       "      <td>0.000000</td>\n",
       "    </tr>\n",
       "    <tr>\n",
       "      <th>4</th>\n",
       "      <td>default_name</td>\n",
       "      <td>0.000000</td>\n",
       "    </tr>\n",
       "    <tr>\n",
       "      <th>8</th>\n",
       "      <td>aup_perc</td>\n",
       "      <td>0.000000</td>\n",
       "    </tr>\n",
       "    <tr>\n",
       "      <th>9</th>\n",
       "      <td>fraud_perc</td>\n",
       "      <td>0.000000</td>\n",
       "    </tr>\n",
       "    <tr>\n",
       "      <th>10</th>\n",
       "      <td>cannabis</td>\n",
       "      <td>0.000000</td>\n",
       "    </tr>\n",
       "  </tbody>\n",
       "</table>\n",
       "</div>"
      ],
      "text/plain": [
       "             feature  importance\n",
       "0                age    0.456613\n",
       "5        _30007_perc    0.357876\n",
       "11          fam_size    0.145153\n",
       "3   unreachable_perc    0.033268\n",
       "7        _30008_perc    0.005838\n",
       "6        _21610_perc    0.001252\n",
       "1                isv    0.000000\n",
       "2             parent    0.000000\n",
       "4       default_name    0.000000\n",
       "8           aup_perc    0.000000\n",
       "9         fraud_perc    0.000000\n",
       "10          cannabis    0.000000"
      ]
     },
     "execution_count": 30,
     "metadata": {},
     "output_type": "execute_result"
    }
   ],
   "source": [
    "feature_importance = pd.DataFrame({\"feature\": x_test.columns,\n",
    "                                 \"importance\": model.feature_importances_})\n",
    "feature_importance.sort_values(by='importance',ascending = False)"
   ]
  },
  {
   "cell_type": "code",
   "execution_count": 37,
   "id": "6e5987e9",
   "metadata": {},
   "outputs": [],
   "source": [
    "#Predict June opt-out rate and view top 10 predicted values\n",
    "def get_top(predicted):\n",
    "    june[predicted]=regr.predict(X)\n",
    "    return june.sort_values(by=string,ascending=False)[['account_sid','_7726_perc',predicted]].head(10)"
   ]
  },
  {
   "cell_type": "code",
   "execution_count": 32,
   "id": "be01c045",
   "metadata": {},
   "outputs": [
    {
     "data": {
      "text/html": [
       "<div>\n",
       "<style scoped>\n",
       "    .dataframe tbody tr th:only-of-type {\n",
       "        vertical-align: middle;\n",
       "    }\n",
       "\n",
       "    .dataframe tbody tr th {\n",
       "        vertical-align: top;\n",
       "    }\n",
       "\n",
       "    .dataframe thead th {\n",
       "        text-align: right;\n",
       "    }\n",
       "</style>\n",
       "<table border=\"1\" class=\"dataframe\">\n",
       "  <thead>\n",
       "    <tr style=\"text-align: right;\">\n",
       "      <th></th>\n",
       "      <th>account_sid</th>\n",
       "      <th>_7726_perc</th>\n",
       "      <th>dt_perc_predict</th>\n",
       "    </tr>\n",
       "  </thead>\n",
       "  <tbody>\n",
       "    <tr>\n",
       "      <th>35311</th>\n",
       "      <td>ACca49e3fa4cc1f8f64986b367f45e3e40</td>\n",
       "      <td>0.000751</td>\n",
       "      <td>0.005822</td>\n",
       "    </tr>\n",
       "    <tr>\n",
       "      <th>71647</th>\n",
       "      <td>ACd34d91494f6a3146d51f63e61fbc8823</td>\n",
       "      <td>0.000000</td>\n",
       "      <td>0.005822</td>\n",
       "    </tr>\n",
       "    <tr>\n",
       "      <th>73760</th>\n",
       "      <td>ACab7f477d1d1160483e3b01c6753b6497</td>\n",
       "      <td>0.000000</td>\n",
       "      <td>0.005822</td>\n",
       "    </tr>\n",
       "    <tr>\n",
       "      <th>13953</th>\n",
       "      <td>ACeda0ffe3e5041d8af064613d8028453d</td>\n",
       "      <td>0.000000</td>\n",
       "      <td>0.005822</td>\n",
       "    </tr>\n",
       "    <tr>\n",
       "      <th>6418</th>\n",
       "      <td>ACf74a79587005dc72e52fb3b5ee60dd09</td>\n",
       "      <td>0.000000</td>\n",
       "      <td>0.000822</td>\n",
       "    </tr>\n",
       "    <tr>\n",
       "      <th>36633</th>\n",
       "      <td>ACe14f38b5f7a6f805ebecaf85406ef5a6</td>\n",
       "      <td>0.000000</td>\n",
       "      <td>0.000822</td>\n",
       "    </tr>\n",
       "    <tr>\n",
       "      <th>80753</th>\n",
       "      <td>ACc37a639438238c61d8a9d4d2f0f2a6b2</td>\n",
       "      <td>0.000000</td>\n",
       "      <td>0.000822</td>\n",
       "    </tr>\n",
       "    <tr>\n",
       "      <th>59775</th>\n",
       "      <td>ACf881114f0edf2b0b7174706a11428af7</td>\n",
       "      <td>0.000000</td>\n",
       "      <td>0.000822</td>\n",
       "    </tr>\n",
       "    <tr>\n",
       "      <th>4304</th>\n",
       "      <td>ACf8ea777647f602198dbe6f240b749f01</td>\n",
       "      <td>0.000000</td>\n",
       "      <td>0.000822</td>\n",
       "    </tr>\n",
       "    <tr>\n",
       "      <th>928</th>\n",
       "      <td>AC062868385c598d0b8b1f442ce8961103</td>\n",
       "      <td>0.000000</td>\n",
       "      <td>0.000822</td>\n",
       "    </tr>\n",
       "  </tbody>\n",
       "</table>\n",
       "</div>"
      ],
      "text/plain": [
       "                              account_sid  _7726_perc  dt_perc_predict\n",
       "35311  ACca49e3fa4cc1f8f64986b367f45e3e40    0.000751         0.005822\n",
       "71647  ACd34d91494f6a3146d51f63e61fbc8823    0.000000         0.005822\n",
       "73760  ACab7f477d1d1160483e3b01c6753b6497    0.000000         0.005822\n",
       "13953  ACeda0ffe3e5041d8af064613d8028453d    0.000000         0.005822\n",
       "6418   ACf74a79587005dc72e52fb3b5ee60dd09    0.000000         0.000822\n",
       "36633  ACe14f38b5f7a6f805ebecaf85406ef5a6    0.000000         0.000822\n",
       "80753  ACc37a639438238c61d8a9d4d2f0f2a6b2    0.000000         0.000822\n",
       "59775  ACf881114f0edf2b0b7174706a11428af7    0.000000         0.000822\n",
       "4304   ACf8ea777647f602198dbe6f240b749f01    0.000000         0.000822\n",
       "928    AC062868385c598d0b8b1f442ce8961103    0.000000         0.000822"
      ]
     },
     "execution_count": 32,
     "metadata": {},
     "output_type": "execute_result"
    }
   ],
   "source": [
    "get_top('dt_perc_predict')"
   ]
  },
  {
   "cell_type": "markdown",
   "id": "e8799ea1",
   "metadata": {},
   "source": [
    "### Random Forest"
   ]
  },
  {
   "cell_type": "code",
   "execution_count": 20,
   "id": "462d0c40",
   "metadata": {},
   "outputs": [
    {
     "data": {
      "image/png": "[encoded data removed]",
      "text/plain": [
       "<Figure size 1152x720 with 1 Axes>"
      ]
     },
     "metadata": {},
     "output_type": "display_data"
    }
   ],
   "source": [
    "index = np.linspace(1, 50, 50, endpoint=True)\n",
    "result = pd.DataFrame(index = index, columns=('train_results', 'test_results'))\n",
    "for max_depth in index:\n",
    "   dt = RandomForestRegressor(max_depth=max_depth)\n",
    "   dt.fit(x_train, y_train)\n",
    "   train_pred = dt.predict(x_train)\n",
    "   # Add rmse\n",
    "   result.at[max_depth,'train_results']=np.sqrt(metrics.mean_squared_error(y_train, train_pred))\n",
    "   test_pred = dt.predict(x_test)\n",
    "   result.at[max_depth,'test_results']=np.sqrt(metrics.mean_squared_error(y_test, test_pred))\n",
    "\n",
    "# Plotting RMSE for different tree depths\n",
    "line1, = plt.plot(index, result['train_results'], label='Train RMSE')\n",
    "line2, = plt.plot(index, result['test_results'], label='Test RMSE')\n",
    "plt.legend(handler_map={line1: HandlerLine2D(numpoints=2)})\n",
    "plt.title('RMSE for Different Max Depth')\n",
    "plt.ylabel('RMSE')\n",
    "plt.xlabel('Tree depth')\n",
    "plt.show()"
   ]
  },
  {
   "cell_type": "code",
   "execution_count": 21,
   "id": "940b2938",
   "metadata": {},
   "outputs": [
    {
     "name": "stdout",
     "output_type": "stream",
     "text": [
      "Root Mean Squared Error w mean: 0.00011354923989481513\n",
      "Optimal Max Depth: 9\n",
      "Smallest RMSE: 0.00020669250369513778\n"
     ]
    }
   ],
   "source": [
    "result['test_results'] = pd.to_numeric(result['test_results'])\n",
    "print('Root Mean Squared Error w mean:', np.sqrt(metrics.mean_squared_error(y, y_bar)))\n",
    "optimal_dep = result['test_results'].idxmin()\n",
    "print(\"Optimal Max Depth: \",optimal_dep)\n",
    "print(\"Smallest RMSE: \",min(result['test_results']))"
   ]
  },
  {
   "cell_type": "code",
   "execution_count": 38,
   "id": "d9886d1e",
   "metadata": {},
   "outputs": [
    {
     "data": {
      "text/plain": [
       "RandomForestRegressor(max_depth=9, random_state=0)"
      ]
     },
     "execution_count": 38,
     "metadata": {},
     "output_type": "execute_result"
    }
   ],
   "source": [
    "#Tree Depth of 9 has the best result\n",
    "regr = RandomForestRegressor(max_depth=optimal_dep, random_state=0)\n",
    "regr.fit(x_train,y_train)"
   ]
  },
  {
   "cell_type": "code",
   "execution_count": 39,
   "id": "8033ff67",
   "metadata": {},
   "outputs": [
    {
     "data": {
      "text/plain": [
       "0.6698708046751364"
      ]
     },
     "execution_count": 39,
     "metadata": {},
     "output_type": "execute_result"
    }
   ],
   "source": [
    "regr.score(x_train,y_train)"
   ]
  },
  {
   "cell_type": "code",
   "execution_count": 40,
   "id": "65297be7",
   "metadata": {},
   "outputs": [
    {
     "data": {
      "text/plain": [
       "0.10904802772402422"
      ]
     },
     "execution_count": 40,
     "metadata": {},
     "output_type": "execute_result"
    }
   ],
   "source": [
    "regr.score(x_test,y_test)"
   ]
  },
  {
   "cell_type": "code",
   "execution_count": 41,
   "id": "0a0e3d11",
   "metadata": {},
   "outputs": [
    {
     "data": {
      "text/html": [
       "<div>\n",
       "<style scoped>\n",
       "    .dataframe tbody tr th:only-of-type {\n",
       "        vertical-align: middle;\n",
       "    }\n",
       "\n",
       "    .dataframe tbody tr th {\n",
       "        vertical-align: top;\n",
       "    }\n",
       "\n",
       "    .dataframe thead th {\n",
       "        text-align: right;\n",
       "    }\n",
       "</style>\n",
       "<table border=\"1\" class=\"dataframe\">\n",
       "  <thead>\n",
       "    <tr style=\"text-align: right;\">\n",
       "      <th></th>\n",
       "      <th>feature</th>\n",
       "      <th>importance</th>\n",
       "    </tr>\n",
       "  </thead>\n",
       "  <tbody>\n",
       "    <tr>\n",
       "      <th>5</th>\n",
       "      <td>_30007_perc</td>\n",
       "      <td>5.404291e-01</td>\n",
       "    </tr>\n",
       "    <tr>\n",
       "      <th>3</th>\n",
       "      <td>unreachable_perc</td>\n",
       "      <td>1.822067e-01</td>\n",
       "    </tr>\n",
       "    <tr>\n",
       "      <th>11</th>\n",
       "      <td>fam_size</td>\n",
       "      <td>1.037275e-01</td>\n",
       "    </tr>\n",
       "    <tr>\n",
       "      <th>0</th>\n",
       "      <td>age</td>\n",
       "      <td>7.147848e-02</td>\n",
       "    </tr>\n",
       "    <tr>\n",
       "      <th>7</th>\n",
       "      <td>_30008_perc</td>\n",
       "      <td>4.948543e-02</td>\n",
       "    </tr>\n",
       "    <tr>\n",
       "      <th>1</th>\n",
       "      <td>isv</td>\n",
       "      <td>3.811114e-02</td>\n",
       "    </tr>\n",
       "    <tr>\n",
       "      <th>9</th>\n",
       "      <td>fraud_perc</td>\n",
       "      <td>6.631772e-03</td>\n",
       "    </tr>\n",
       "    <tr>\n",
       "      <th>6</th>\n",
       "      <td>_21610_perc</td>\n",
       "      <td>5.379744e-03</td>\n",
       "    </tr>\n",
       "    <tr>\n",
       "      <th>2</th>\n",
       "      <td>parent</td>\n",
       "      <td>1.996786e-03</td>\n",
       "    </tr>\n",
       "    <tr>\n",
       "      <th>8</th>\n",
       "      <td>aup_perc</td>\n",
       "      <td>5.533955e-04</td>\n",
       "    </tr>\n",
       "    <tr>\n",
       "      <th>10</th>\n",
       "      <td>cannabis</td>\n",
       "      <td>9.656819e-10</td>\n",
       "    </tr>\n",
       "    <tr>\n",
       "      <th>4</th>\n",
       "      <td>default_name</td>\n",
       "      <td>0.000000e+00</td>\n",
       "    </tr>\n",
       "  </tbody>\n",
       "</table>\n",
       "</div>"
      ],
      "text/plain": [
       "             feature    importance\n",
       "5        _30007_perc  5.404291e-01\n",
       "3   unreachable_perc  1.822067e-01\n",
       "11          fam_size  1.037275e-01\n",
       "0                age  7.147848e-02\n",
       "7        _30008_perc  4.948543e-02\n",
       "1                isv  3.811114e-02\n",
       "9         fraud_perc  6.631772e-03\n",
       "6        _21610_perc  5.379744e-03\n",
       "2             parent  1.996786e-03\n",
       "8           aup_perc  5.533955e-04\n",
       "10          cannabis  9.656819e-10\n",
       "4       default_name  0.000000e+00"
      ]
     },
     "execution_count": 41,
     "metadata": {},
     "output_type": "execute_result"
    }
   ],
   "source": [
    "feature_importance = pd.DataFrame({\"feature\": x_test.columns,\n",
    "                                 \"importance\": regr.feature_importances_})\n",
    "feature_importance.sort_values(by='importance',ascending = False)"
   ]
  },
  {
   "cell_type": "code",
   "execution_count": 42,
   "id": "2c1d4658",
   "metadata": {},
   "outputs": [
    {
     "data": {
      "text/html": [
       "<div>\n",
       "<style scoped>\n",
       "    .dataframe tbody tr th:only-of-type {\n",
       "        vertical-align: middle;\n",
       "    }\n",
       "\n",
       "    .dataframe tbody tr th {\n",
       "        vertical-align: top;\n",
       "    }\n",
       "\n",
       "    .dataframe thead th {\n",
       "        text-align: right;\n",
       "    }\n",
       "</style>\n",
       "<table border=\"1\" class=\"dataframe\">\n",
       "  <thead>\n",
       "    <tr style=\"text-align: right;\">\n",
       "      <th></th>\n",
       "      <th>account_sid</th>\n",
       "      <th>_7726_perc</th>\n",
       "      <th>rf_perc_predict</th>\n",
       "    </tr>\n",
       "  </thead>\n",
       "  <tbody>\n",
       "    <tr>\n",
       "      <th>13176</th>\n",
       "      <td>AC1ffec11541a5dcd1fda1a1e4e96534f1</td>\n",
       "      <td>0.000000</td>\n",
       "      <td>0.006591</td>\n",
       "    </tr>\n",
       "    <tr>\n",
       "      <th>25108</th>\n",
       "      <td>AC14989656923108dbffbca1a5d12ef7ca</td>\n",
       "      <td>0.000000</td>\n",
       "      <td>0.006516</td>\n",
       "    </tr>\n",
       "    <tr>\n",
       "      <th>55385</th>\n",
       "      <td>ACef92e31dbda19ffff56ff0bd0f0f0313</td>\n",
       "      <td>0.000000</td>\n",
       "      <td>0.006477</td>\n",
       "    </tr>\n",
       "    <tr>\n",
       "      <th>12021</th>\n",
       "      <td>AC2dbe95b91c614a64f7cf87b280020220</td>\n",
       "      <td>0.000000</td>\n",
       "      <td>0.005985</td>\n",
       "    </tr>\n",
       "    <tr>\n",
       "      <th>8864</th>\n",
       "      <td>ACde36d90ff7d955da49c313dfc67ce8d7</td>\n",
       "      <td>0.000000</td>\n",
       "      <td>0.003897</td>\n",
       "    </tr>\n",
       "    <tr>\n",
       "      <th>16749</th>\n",
       "      <td>AC671638e22b4e2c4ec98de2aae4dd3e44</td>\n",
       "      <td>0.000478</td>\n",
       "      <td>0.003570</td>\n",
       "    </tr>\n",
       "    <tr>\n",
       "      <th>73042</th>\n",
       "      <td>AC45909a898b64f088a1f2042a57f183a0</td>\n",
       "      <td>0.000000</td>\n",
       "      <td>0.003291</td>\n",
       "    </tr>\n",
       "    <tr>\n",
       "      <th>44367</th>\n",
       "      <td>ACc8dfc2d3fe4f11d0f3a422d61dd1959c</td>\n",
       "      <td>0.000000</td>\n",
       "      <td>0.002178</td>\n",
       "    </tr>\n",
       "    <tr>\n",
       "      <th>40510</th>\n",
       "      <td>ACe9ba035194867bc1c28abc95653f5c96</td>\n",
       "      <td>0.000000</td>\n",
       "      <td>0.002065</td>\n",
       "    </tr>\n",
       "    <tr>\n",
       "      <th>10675</th>\n",
       "      <td>AC1632ec963958997f96abb8bfc765665f</td>\n",
       "      <td>0.000000</td>\n",
       "      <td>0.002016</td>\n",
       "    </tr>\n",
       "  </tbody>\n",
       "</table>\n",
       "</div>"
      ],
      "text/plain": [
       "                              account_sid  _7726_perc  rf_perc_predict\n",
       "13176  AC1ffec11541a5dcd1fda1a1e4e96534f1    0.000000         0.006591\n",
       "25108  AC14989656923108dbffbca1a5d12ef7ca    0.000000         0.006516\n",
       "55385  ACef92e31dbda19ffff56ff0bd0f0f0313    0.000000         0.006477\n",
       "12021  AC2dbe95b91c614a64f7cf87b280020220    0.000000         0.005985\n",
       "8864   ACde36d90ff7d955da49c313dfc67ce8d7    0.000000         0.003897\n",
       "16749  AC671638e22b4e2c4ec98de2aae4dd3e44    0.000478         0.003570\n",
       "73042  AC45909a898b64f088a1f2042a57f183a0    0.000000         0.003291\n",
       "44367  ACc8dfc2d3fe4f11d0f3a422d61dd1959c    0.000000         0.002178\n",
       "40510  ACe9ba035194867bc1c28abc95653f5c96    0.000000         0.002065\n",
       "10675  AC1632ec963958997f96abb8bfc765665f    0.000000         0.002016"
      ]
     },
     "execution_count": 42,
     "metadata": {},
     "output_type": "execute_result"
    }
   ],
   "source": [
    "get_top('rf_perc_predict')"
   ]
  },
  {
   "cell_type": "markdown",
   "id": "e524e316",
   "metadata": {},
   "source": [
    "### KNN "
   ]
  },
  {
   "cell_type": "code",
   "execution_count": 43,
   "id": "021d47e6",
   "metadata": {},
   "outputs": [
    {
     "data": {
      "image/png": "[encoded data removed]",
      "text/plain": [
       "<Figure size 1152x720 with 1 Axes>"
      ]
     },
     "metadata": {},
     "output_type": "display_data"
    }
   ],
   "source": [
    "index = np.linspace(1, 50, 50, endpoint=True)\n",
    "result = pd.DataFrame(index = index, columns=('train_results', 'test_results'))\n",
    "for n in index:\n",
    "   dt = KNeighborsRegressor(n_neighbors=int(n))\n",
    "   dt.fit(x_train, y_train)\n",
    "   train_pred = dt.predict(x_train)\n",
    "   # Add rmse\n",
    "   result.at[n,'train_results']=np.sqrt(metrics.mean_squared_error(y_train, train_pred))\n",
    "   test_pred = dt.predict(x_test)\n",
    "   result.at[n,'test_results']=np.sqrt(metrics.mean_squared_error(y_test, test_pred))\n",
    "\n",
    "# Plotting RMSE for different tree depths\n",
    "line1, = plt.plot(index, result['train_results'], label='Train RMSE')\n",
    "line2, = plt.plot(index, result['test_results'], label='Test RMSE')\n",
    "plt.legend(handler_map={line1: HandlerLine2D(numpoints=2)})\n",
    "plt.title('RMSE for Different Number of Neighbors')\n",
    "plt.ylabel('RMSE')\n",
    "plt.xlabel('Number of Neighbors')\n",
    "plt.show()"
   ]
  },
  {
   "cell_type": "code",
   "execution_count": 44,
   "id": "acbbdfb8",
   "metadata": {},
   "outputs": [
    {
     "name": "stdout",
     "output_type": "stream",
     "text": [
      "Root Mean Squared Error w mean: 0.00011354923989481513\n",
      "Optimal Max Depth: 43\n",
      "Smallest RMSE: 0.00020664660625112057\n"
     ]
    }
   ],
   "source": [
    "result['test_results'] = pd.to_numeric(result['test_results'])\n",
    "print('Root Mean Squared Error w mean:', np.sqrt(metrics.mean_squared_error(y, y_bar)))\n",
    "optimal_dep = result['test_results'].idxmin()\n",
    "print(\"Optimal Max Depth: \",optimal_dep)\n",
    "print(\"Smallest RMSE: \",min(result['test_results']))"
   ]
  },
  {
   "cell_type": "code",
   "execution_count": 45,
   "id": "24dc8bd9",
   "metadata": {},
   "outputs": [
    {
     "data": {
      "text/plain": [
       "KNeighborsRegressor(n_neighbors=43)"
      ]
     },
     "execution_count": 45,
     "metadata": {},
     "output_type": "execute_result"
    }
   ],
   "source": [
    "#k of 43 has the best result\n",
    "regr = KNeighborsRegressor(n_neighbors=optimal_dep)\n",
    "regr.fit(x_train,y_train)"
   ]
  },
  {
   "cell_type": "code",
   "execution_count": 46,
   "id": "a03459cb",
   "metadata": {},
   "outputs": [
    {
     "data": {
      "text/plain": [
       "0.09680258131337915"
      ]
     },
     "execution_count": 46,
     "metadata": {},
     "output_type": "execute_result"
    }
   ],
   "source": [
    "regr.score(x_train,y_train)"
   ]
  },
  {
   "cell_type": "code",
   "execution_count": 47,
   "id": "60a9ffdd",
   "metadata": {},
   "outputs": [
    {
     "data": {
      "text/plain": [
       "0.11513684520360679"
      ]
     },
     "execution_count": 47,
     "metadata": {},
     "output_type": "execute_result"
    }
   ],
   "source": [
    "regr.score(x_test,y_test)"
   ]
  },
  {
   "cell_type": "code",
   "execution_count": 48,
   "id": "0dfed3a7",
   "metadata": {},
   "outputs": [
    {
     "data": {
      "text/html": [
       "<div>\n",
       "<style scoped>\n",
       "    .dataframe tbody tr th:only-of-type {\n",
       "        vertical-align: middle;\n",
       "    }\n",
       "\n",
       "    .dataframe tbody tr th {\n",
       "        vertical-align: top;\n",
       "    }\n",
       "\n",
       "    .dataframe thead th {\n",
       "        text-align: right;\n",
       "    }\n",
       "</style>\n",
       "<table border=\"1\" class=\"dataframe\">\n",
       "  <thead>\n",
       "    <tr style=\"text-align: right;\">\n",
       "      <th></th>\n",
       "      <th>feature</th>\n",
       "      <th>importance</th>\n",
       "    </tr>\n",
       "  </thead>\n",
       "  <tbody>\n",
       "    <tr>\n",
       "      <th>11</th>\n",
       "      <td>fam_size</td>\n",
       "      <td>2.536812e-09</td>\n",
       "    </tr>\n",
       "    <tr>\n",
       "      <th>0</th>\n",
       "      <td>age</td>\n",
       "      <td>7.315996e-10</td>\n",
       "    </tr>\n",
       "    <tr>\n",
       "      <th>3</th>\n",
       "      <td>unreachable_perc</td>\n",
       "      <td>4.553546e-10</td>\n",
       "    </tr>\n",
       "    <tr>\n",
       "      <th>5</th>\n",
       "      <td>_30007_perc</td>\n",
       "      <td>6.239335e-11</td>\n",
       "    </tr>\n",
       "    <tr>\n",
       "      <th>7</th>\n",
       "      <td>_30008_perc</td>\n",
       "      <td>5.957752e-11</td>\n",
       "    </tr>\n",
       "    <tr>\n",
       "      <th>1</th>\n",
       "      <td>isv</td>\n",
       "      <td>2.455914e-12</td>\n",
       "    </tr>\n",
       "    <tr>\n",
       "      <th>8</th>\n",
       "      <td>aup_perc</td>\n",
       "      <td>4.668187e-14</td>\n",
       "    </tr>\n",
       "    <tr>\n",
       "      <th>4</th>\n",
       "      <td>default_name</td>\n",
       "      <td>0.000000e+00</td>\n",
       "    </tr>\n",
       "    <tr>\n",
       "      <th>10</th>\n",
       "      <td>cannabis</td>\n",
       "      <td>0.000000e+00</td>\n",
       "    </tr>\n",
       "    <tr>\n",
       "      <th>6</th>\n",
       "      <td>_21610_perc</td>\n",
       "      <td>-1.990448e-12</td>\n",
       "    </tr>\n",
       "    <tr>\n",
       "      <th>9</th>\n",
       "      <td>fraud_perc</td>\n",
       "      <td>-5.985331e-12</td>\n",
       "    </tr>\n",
       "    <tr>\n",
       "      <th>2</th>\n",
       "      <td>parent</td>\n",
       "      <td>-2.106769e-11</td>\n",
       "    </tr>\n",
       "  </tbody>\n",
       "</table>\n",
       "</div>"
      ],
      "text/plain": [
       "             feature    importance\n",
       "11          fam_size  2.536812e-09\n",
       "0                age  7.315996e-10\n",
       "3   unreachable_perc  4.553546e-10\n",
       "5        _30007_perc  6.239335e-11\n",
       "7        _30008_perc  5.957752e-11\n",
       "1                isv  2.455914e-12\n",
       "8           aup_perc  4.668187e-14\n",
       "4       default_name  0.000000e+00\n",
       "10          cannabis  0.000000e+00\n",
       "6        _21610_perc -1.990448e-12\n",
       "9         fraud_perc -5.985331e-12\n",
       "2             parent -2.106769e-11"
      ]
     },
     "execution_count": 48,
     "metadata": {},
     "output_type": "execute_result"
    }
   ],
   "source": [
    "results = permutation_importance(regr, X, y, scoring='neg_mean_squared_error')\n",
    "feature_importance = pd.DataFrame({\"feature\": x_test.columns,\n",
    "                                 \"importance\": results.importances_mean})\n",
    "feature_importance.sort_values(by='importance',ascending = False)"
   ]
  },
  {
   "cell_type": "code",
   "execution_count": 49,
   "id": "5cd55c54",
   "metadata": {},
   "outputs": [
    {
     "data": {
      "text/html": [
       "<div>\n",
       "<style scoped>\n",
       "    .dataframe tbody tr th:only-of-type {\n",
       "        vertical-align: middle;\n",
       "    }\n",
       "\n",
       "    .dataframe tbody tr th {\n",
       "        vertical-align: top;\n",
       "    }\n",
       "\n",
       "    .dataframe thead th {\n",
       "        text-align: right;\n",
       "    }\n",
       "</style>\n",
       "<table border=\"1\" class=\"dataframe\">\n",
       "  <thead>\n",
       "    <tr style=\"text-align: right;\">\n",
       "      <th></th>\n",
       "      <th>account_sid</th>\n",
       "      <th>_7726_perc</th>\n",
       "      <th>knn_perc_predict</th>\n",
       "    </tr>\n",
       "  </thead>\n",
       "  <tbody>\n",
       "    <tr>\n",
       "      <th>13176</th>\n",
       "      <td>AC1ffec11541a5dcd1fda1a1e4e96534f1</td>\n",
       "      <td>0.000000</td>\n",
       "      <td>0.006591</td>\n",
       "    </tr>\n",
       "    <tr>\n",
       "      <th>25108</th>\n",
       "      <td>AC14989656923108dbffbca1a5d12ef7ca</td>\n",
       "      <td>0.000000</td>\n",
       "      <td>0.006516</td>\n",
       "    </tr>\n",
       "    <tr>\n",
       "      <th>55385</th>\n",
       "      <td>ACef92e31dbda19ffff56ff0bd0f0f0313</td>\n",
       "      <td>0.000000</td>\n",
       "      <td>0.006477</td>\n",
       "    </tr>\n",
       "    <tr>\n",
       "      <th>12021</th>\n",
       "      <td>AC2dbe95b91c614a64f7cf87b280020220</td>\n",
       "      <td>0.000000</td>\n",
       "      <td>0.005985</td>\n",
       "    </tr>\n",
       "    <tr>\n",
       "      <th>8864</th>\n",
       "      <td>ACde36d90ff7d955da49c313dfc67ce8d7</td>\n",
       "      <td>0.000000</td>\n",
       "      <td>0.003897</td>\n",
       "    </tr>\n",
       "    <tr>\n",
       "      <th>16749</th>\n",
       "      <td>AC671638e22b4e2c4ec98de2aae4dd3e44</td>\n",
       "      <td>0.000478</td>\n",
       "      <td>0.003570</td>\n",
       "    </tr>\n",
       "    <tr>\n",
       "      <th>73042</th>\n",
       "      <td>AC45909a898b64f088a1f2042a57f183a0</td>\n",
       "      <td>0.000000</td>\n",
       "      <td>0.003291</td>\n",
       "    </tr>\n",
       "    <tr>\n",
       "      <th>44367</th>\n",
       "      <td>ACc8dfc2d3fe4f11d0f3a422d61dd1959c</td>\n",
       "      <td>0.000000</td>\n",
       "      <td>0.002178</td>\n",
       "    </tr>\n",
       "    <tr>\n",
       "      <th>40510</th>\n",
       "      <td>ACe9ba035194867bc1c28abc95653f5c96</td>\n",
       "      <td>0.000000</td>\n",
       "      <td>0.002065</td>\n",
       "    </tr>\n",
       "    <tr>\n",
       "      <th>10675</th>\n",
       "      <td>AC1632ec963958997f96abb8bfc765665f</td>\n",
       "      <td>0.000000</td>\n",
       "      <td>0.002016</td>\n",
       "    </tr>\n",
       "  </tbody>\n",
       "</table>\n",
       "</div>"
      ],
      "text/plain": [
       "                              account_sid  _7726_perc  knn_perc_predict\n",
       "13176  AC1ffec11541a5dcd1fda1a1e4e96534f1    0.000000          0.006591\n",
       "25108  AC14989656923108dbffbca1a5d12ef7ca    0.000000          0.006516\n",
       "55385  ACef92e31dbda19ffff56ff0bd0f0f0313    0.000000          0.006477\n",
       "12021  AC2dbe95b91c614a64f7cf87b280020220    0.000000          0.005985\n",
       "8864   ACde36d90ff7d955da49c313dfc67ce8d7    0.000000          0.003897\n",
       "16749  AC671638e22b4e2c4ec98de2aae4dd3e44    0.000478          0.003570\n",
       "73042  AC45909a898b64f088a1f2042a57f183a0    0.000000          0.003291\n",
       "44367  ACc8dfc2d3fe4f11d0f3a422d61dd1959c    0.000000          0.002178\n",
       "40510  ACe9ba035194867bc1c28abc95653f5c96    0.000000          0.002065\n",
       "10675  AC1632ec963958997f96abb8bfc765665f    0.000000          0.002016"
      ]
     },
     "execution_count": 49,
     "metadata": {},
     "output_type": "execute_result"
    }
   ],
   "source": [
    "get_top('knn_perc_predict')"
   ]
  },
  {
   "cell_type": "markdown",
   "id": "dab404d0",
   "metadata": {},
   "source": [
    "### Neural Network"
   ]
  },
  {
   "cell_type": "code",
   "execution_count": 182,
   "id": "ad34e5c7",
   "metadata": {},
   "outputs": [],
   "source": [
    "regr = MLPRegressor(solver='adam',random_state=0, activation='logistic',max_iter=5000).fit(x_train, y_train)"
   ]
  },
  {
   "cell_type": "code",
   "execution_count": 183,
   "id": "08267876",
   "metadata": {},
   "outputs": [],
   "source": [
    "pred = regr.predict(X)"
   ]
  },
  {
   "cell_type": "code",
   "execution_count": 89,
   "id": "8e0c6f4d",
   "metadata": {},
   "outputs": [
    {
     "name": "stdout",
     "output_type": "stream",
     "text": [
      "Root Mean Squared Error w mean: 0.00011354923989482196\n"
     ]
    },
    {
     "data": {
      "text/plain": [
       "0.00023784857684190346"
      ]
     },
     "execution_count": 89,
     "metadata": {},
     "output_type": "execute_result"
    }
   ],
   "source": [
    "print('Root Mean Squared Error w mean:', np.sqrt(metrics.mean_squared_error(y, y_bar)))\n",
    "np.sqrt(metrics.mean_squared_error(y, pred))"
   ]
  },
  {
   "cell_type": "code",
   "execution_count": 184,
   "id": "95457dcb",
   "metadata": {},
   "outputs": [
    {
     "data": {
      "text/plain": [
       "-1.0175238815003733"
      ]
     },
     "execution_count": 184,
     "metadata": {},
     "output_type": "execute_result"
    }
   ],
   "source": [
    "regr.score(x_train,y_train)"
   ]
  },
  {
   "cell_type": "code",
   "execution_count": 185,
   "id": "ebbf4c8a",
   "metadata": {},
   "outputs": [
    {
     "data": {
      "text/plain": [
       "-2.0579097517716796"
      ]
     },
     "execution_count": 185,
     "metadata": {},
     "output_type": "execute_result"
    }
   ],
   "source": [
    "regr.score(x_test,y_test)"
   ]
  },
  {
   "cell_type": "code",
   "execution_count": 186,
   "id": "0349afd6",
   "metadata": {},
   "outputs": [
    {
     "data": {
      "text/html": [
       "<div>\n",
       "<style scoped>\n",
       "    .dataframe tbody tr th:only-of-type {\n",
       "        vertical-align: middle;\n",
       "    }\n",
       "\n",
       "    .dataframe tbody tr th {\n",
       "        vertical-align: top;\n",
       "    }\n",
       "\n",
       "    .dataframe thead th {\n",
       "        text-align: right;\n",
       "    }\n",
       "</style>\n",
       "<table border=\"1\" class=\"dataframe\">\n",
       "  <thead>\n",
       "    <tr style=\"text-align: right;\">\n",
       "      <th></th>\n",
       "      <th>account_sid</th>\n",
       "      <th>_7726_perc</th>\n",
       "      <th>nn_predict</th>\n",
       "    </tr>\n",
       "  </thead>\n",
       "  <tbody>\n",
       "    <tr>\n",
       "      <th>8233</th>\n",
       "      <td>AC2308cf798f68e8b3d151257d30d7c645</td>\n",
       "      <td>0.0</td>\n",
       "      <td>0.010814</td>\n",
       "    </tr>\n",
       "    <tr>\n",
       "      <th>50335</th>\n",
       "      <td>AC174e855f25e24f76b83093221ab38ca3</td>\n",
       "      <td>0.0</td>\n",
       "      <td>0.008852</td>\n",
       "    </tr>\n",
       "    <tr>\n",
       "      <th>11808</th>\n",
       "      <td>ACaa81b6217e5f40fab4dd48581f858dcb</td>\n",
       "      <td>0.0</td>\n",
       "      <td>0.008773</td>\n",
       "    </tr>\n",
       "    <tr>\n",
       "      <th>62539</th>\n",
       "      <td>ACe63bf92982174786b9d10d9e764c3419</td>\n",
       "      <td>0.0</td>\n",
       "      <td>0.007961</td>\n",
       "    </tr>\n",
       "    <tr>\n",
       "      <th>63333</th>\n",
       "      <td>AC2871bb4cb7062c3d7aed3a66f330bc37</td>\n",
       "      <td>0.0</td>\n",
       "      <td>0.006668</td>\n",
       "    </tr>\n",
       "    <tr>\n",
       "      <th>61865</th>\n",
       "      <td>AC07859d36d29002c12683e31c3b305797</td>\n",
       "      <td>0.0</td>\n",
       "      <td>0.006414</td>\n",
       "    </tr>\n",
       "    <tr>\n",
       "      <th>48690</th>\n",
       "      <td>ACe5c60f5f013e460bbdc999c20843b485</td>\n",
       "      <td>0.0</td>\n",
       "      <td>0.005288</td>\n",
       "    </tr>\n",
       "    <tr>\n",
       "      <th>41875</th>\n",
       "      <td>AC7c2a6d3569175c0a08865b57dd9c91a6</td>\n",
       "      <td>0.0</td>\n",
       "      <td>0.005183</td>\n",
       "    </tr>\n",
       "    <tr>\n",
       "      <th>13377</th>\n",
       "      <td>ACac689c09ce794956a2ab991812221902</td>\n",
       "      <td>0.0</td>\n",
       "      <td>0.004877</td>\n",
       "    </tr>\n",
       "    <tr>\n",
       "      <th>18041</th>\n",
       "      <td>AC7548c1496a7ea8241557f30f55575f12</td>\n",
       "      <td>0.0</td>\n",
       "      <td>0.004673</td>\n",
       "    </tr>\n",
       "  </tbody>\n",
       "</table>\n",
       "</div>"
      ],
      "text/plain": [
       "                              account_sid  _7726_perc  nn_predict\n",
       "8233   AC2308cf798f68e8b3d151257d30d7c645         0.0    0.010814\n",
       "50335  AC174e855f25e24f76b83093221ab38ca3         0.0    0.008852\n",
       "11808  ACaa81b6217e5f40fab4dd48581f858dcb         0.0    0.008773\n",
       "62539  ACe63bf92982174786b9d10d9e764c3419         0.0    0.007961\n",
       "63333  AC2871bb4cb7062c3d7aed3a66f330bc37         0.0    0.006668\n",
       "61865  AC07859d36d29002c12683e31c3b305797         0.0    0.006414\n",
       "48690  ACe5c60f5f013e460bbdc999c20843b485         0.0    0.005288\n",
       "41875  AC7c2a6d3569175c0a08865b57dd9c91a6         0.0    0.005183\n",
       "13377  ACac689c09ce794956a2ab991812221902         0.0    0.004877\n",
       "18041  AC7548c1496a7ea8241557f30f55575f12         0.0    0.004673"
      ]
     },
     "execution_count": 186,
     "metadata": {},
     "output_type": "execute_result"
    }
   ],
   "source": [
    "get_top('nn_predict')"
   ]
  },
  {
   "cell_type": "markdown",
   "id": "6962d9b2",
   "metadata": {},
   "source": [
    "### Bagging"
   ]
  },
  {
   "cell_type": "code",
   "execution_count": 192,
   "id": "878fcac6",
   "metadata": {},
   "outputs": [],
   "source": [
    "regr = BaggingRegressor(base_estimator=SVR(kernel='sigmoid'),n_estimators=30, random_state=0).fit(x_train, y_train)"
   ]
  },
  {
   "cell_type": "code",
   "execution_count": 175,
   "id": "9955e941",
   "metadata": {},
   "outputs": [],
   "source": [
    "pred = regr.predict(X)"
   ]
  },
  {
   "cell_type": "code",
   "execution_count": 193,
   "id": "91abac26",
   "metadata": {},
   "outputs": [
    {
     "data": {
      "text/plain": [
       "-3837.360595987094"
      ]
     },
     "execution_count": 193,
     "metadata": {},
     "output_type": "execute_result"
    }
   ],
   "source": [
    "regr.score(x_train,y_train)"
   ]
  },
  {
   "cell_type": "code",
   "execution_count": 194,
   "id": "95b651e4",
   "metadata": {},
   "outputs": [
    {
     "data": {
      "text/plain": [
       "-7758.9249825817515"
      ]
     },
     "execution_count": 194,
     "metadata": {},
     "output_type": "execute_result"
    }
   ],
   "source": [
    "regr.score(x_test,y_test)"
   ]
  },
  {
   "cell_type": "code",
   "execution_count": 177,
   "id": "ca5f1555",
   "metadata": {},
   "outputs": [
    {
     "name": "stdout",
     "output_type": "stream",
     "text": [
      "Root Mean Squared Error w mean: 0.00011354923989482196\n"
     ]
    },
    {
     "data": {
      "text/plain": [
       "0.0001326419683157639"
      ]
     },
     "execution_count": 177,
     "metadata": {},
     "output_type": "execute_result"
    }
   ],
   "source": [
    "print('Root Mean Squared Error w mean:', np.sqrt(metrics.mean_squared_error(y, y_bar)))\n",
    "np.sqrt(metrics.mean_squared_error(y, pred))"
   ]
  },
  {
   "cell_type": "code",
   "execution_count": 179,
   "id": "6df87ef8",
   "metadata": {},
   "outputs": [
    {
     "data": {
      "text/html": [
       "<div>\n",
       "<style scoped>\n",
       "    .dataframe tbody tr th:only-of-type {\n",
       "        vertical-align: middle;\n",
       "    }\n",
       "\n",
       "    .dataframe tbody tr th {\n",
       "        vertical-align: top;\n",
       "    }\n",
       "\n",
       "    .dataframe thead th {\n",
       "        text-align: right;\n",
       "    }\n",
       "</style>\n",
       "<table border=\"1\" class=\"dataframe\">\n",
       "  <thead>\n",
       "    <tr style=\"text-align: right;\">\n",
       "      <th></th>\n",
       "      <th>feature</th>\n",
       "      <th>importance</th>\n",
       "    </tr>\n",
       "  </thead>\n",
       "  <tbody>\n",
       "    <tr>\n",
       "      <th>5</th>\n",
       "      <td>_30007_perc</td>\n",
       "      <td>0.493270</td>\n",
       "    </tr>\n",
       "    <tr>\n",
       "      <th>3</th>\n",
       "      <td>unreachable_perc</td>\n",
       "      <td>0.229605</td>\n",
       "    </tr>\n",
       "    <tr>\n",
       "      <th>7</th>\n",
       "      <td>_30008_perc</td>\n",
       "      <td>0.161022</td>\n",
       "    </tr>\n",
       "    <tr>\n",
       "      <th>0</th>\n",
       "      <td>age</td>\n",
       "      <td>0.053199</td>\n",
       "    </tr>\n",
       "    <tr>\n",
       "      <th>11</th>\n",
       "      <td>fam_size</td>\n",
       "      <td>0.053041</td>\n",
       "    </tr>\n",
       "    <tr>\n",
       "      <th>6</th>\n",
       "      <td>_21610_perc</td>\n",
       "      <td>0.005399</td>\n",
       "    </tr>\n",
       "    <tr>\n",
       "      <th>1</th>\n",
       "      <td>isv</td>\n",
       "      <td>0.002741</td>\n",
       "    </tr>\n",
       "    <tr>\n",
       "      <th>9</th>\n",
       "      <td>fraud_perc</td>\n",
       "      <td>0.001657</td>\n",
       "    </tr>\n",
       "    <tr>\n",
       "      <th>8</th>\n",
       "      <td>aup_perc</td>\n",
       "      <td>0.000065</td>\n",
       "    </tr>\n",
       "    <tr>\n",
       "      <th>2</th>\n",
       "      <td>parent</td>\n",
       "      <td>0.000000</td>\n",
       "    </tr>\n",
       "    <tr>\n",
       "      <th>4</th>\n",
       "      <td>default_name</td>\n",
       "      <td>0.000000</td>\n",
       "    </tr>\n",
       "    <tr>\n",
       "      <th>10</th>\n",
       "      <td>cannabis</td>\n",
       "      <td>0.000000</td>\n",
       "    </tr>\n",
       "  </tbody>\n",
       "</table>\n",
       "</div>"
      ],
      "text/plain": [
       "             feature  importance\n",
       "5        _30007_perc    0.493270\n",
       "3   unreachable_perc    0.229605\n",
       "7        _30008_perc    0.161022\n",
       "0                age    0.053199\n",
       "11          fam_size    0.053041\n",
       "6        _21610_perc    0.005399\n",
       "1                isv    0.002741\n",
       "9         fraud_perc    0.001657\n",
       "8           aup_perc    0.000065\n",
       "2             parent    0.000000\n",
       "4       default_name    0.000000\n",
       "10          cannabis    0.000000"
      ]
     },
     "execution_count": 179,
     "metadata": {},
     "output_type": "execute_result"
    }
   ],
   "source": [
    "feature_importances = np.mean([\n",
    "    tree.feature_importances_ for tree in regr.estimators_\n",
    "], axis=0)\n",
    "feature_importance.sort_values(by='importance',ascending = False)"
   ]
  },
  {
   "cell_type": "code",
   "execution_count": 191,
   "id": "92949af9",
   "metadata": {},
   "outputs": [
    {
     "data": {
      "text/html": [
       "<div>\n",
       "<style scoped>\n",
       "    .dataframe tbody tr th:only-of-type {\n",
       "        vertical-align: middle;\n",
       "    }\n",
       "\n",
       "    .dataframe tbody tr th {\n",
       "        vertical-align: top;\n",
       "    }\n",
       "\n",
       "    .dataframe thead th {\n",
       "        text-align: right;\n",
       "    }\n",
       "</style>\n",
       "<table border=\"1\" class=\"dataframe\">\n",
       "  <thead>\n",
       "    <tr style=\"text-align: right;\">\n",
       "      <th></th>\n",
       "      <th>account_sid</th>\n",
       "      <th>optout_perc</th>\n",
       "      <th>bag_predict</th>\n",
       "    </tr>\n",
       "  </thead>\n",
       "  <tbody>\n",
       "    <tr>\n",
       "      <th>0</th>\n",
       "      <td>AC9f3116fcac59b5b68a451cba28f5a731</td>\n",
       "      <td>0.057846</td>\n",
       "      <td>0.01981</td>\n",
       "    </tr>\n",
       "    <tr>\n",
       "      <th>54054</th>\n",
       "      <td>ACc488c0c7e7fd3e86b6b63db13684f446</td>\n",
       "      <td>0.031795</td>\n",
       "      <td>0.01981</td>\n",
       "    </tr>\n",
       "    <tr>\n",
       "      <th>54061</th>\n",
       "      <td>AC6425bb29d25434b29b7ce1f3ab3aefa1</td>\n",
       "      <td>0.000000</td>\n",
       "      <td>0.01981</td>\n",
       "    </tr>\n",
       "    <tr>\n",
       "      <th>54060</th>\n",
       "      <td>AC94df3a63ffdf113aa8dc659db14926f1</td>\n",
       "      <td>0.000000</td>\n",
       "      <td>0.01981</td>\n",
       "    </tr>\n",
       "    <tr>\n",
       "      <th>54059</th>\n",
       "      <td>AC7936829b0f9f440e103988690b42e789</td>\n",
       "      <td>0.000000</td>\n",
       "      <td>0.01981</td>\n",
       "    </tr>\n",
       "    <tr>\n",
       "      <th>54058</th>\n",
       "      <td>ACcd48b9ad24d38648a6317bae06c12496</td>\n",
       "      <td>0.000000</td>\n",
       "      <td>0.01981</td>\n",
       "    </tr>\n",
       "    <tr>\n",
       "      <th>54057</th>\n",
       "      <td>AC411755b57bc46970e519caf1471a5181</td>\n",
       "      <td>0.008551</td>\n",
       "      <td>0.01981</td>\n",
       "    </tr>\n",
       "    <tr>\n",
       "      <th>54056</th>\n",
       "      <td>AC7700a06b86782199a0cc71fe3a5b2dde</td>\n",
       "      <td>0.001195</td>\n",
       "      <td>0.01981</td>\n",
       "    </tr>\n",
       "    <tr>\n",
       "      <th>54055</th>\n",
       "      <td>AC3bbb12f3461a45f1ffec25420bd45d41</td>\n",
       "      <td>0.000000</td>\n",
       "      <td>0.01981</td>\n",
       "    </tr>\n",
       "    <tr>\n",
       "      <th>54053</th>\n",
       "      <td>AC9580fdbe2945eb580cb3337ef0d9386f</td>\n",
       "      <td>0.000000</td>\n",
       "      <td>0.01981</td>\n",
       "    </tr>\n",
       "  </tbody>\n",
       "</table>\n",
       "</div>"
      ],
      "text/plain": [
       "                              account_sid  optout_perc  bag_predict\n",
       "0      AC9f3116fcac59b5b68a451cba28f5a731     0.057846      0.01981\n",
       "54054  ACc488c0c7e7fd3e86b6b63db13684f446     0.031795      0.01981\n",
       "54061  AC6425bb29d25434b29b7ce1f3ab3aefa1     0.000000      0.01981\n",
       "54060  AC94df3a63ffdf113aa8dc659db14926f1     0.000000      0.01981\n",
       "54059  AC7936829b0f9f440e103988690b42e789     0.000000      0.01981\n",
       "54058  ACcd48b9ad24d38648a6317bae06c12496     0.000000      0.01981\n",
       "54057  AC411755b57bc46970e519caf1471a5181     0.008551      0.01981\n",
       "54056  AC7700a06b86782199a0cc71fe3a5b2dde     0.001195      0.01981\n",
       "54055  AC3bbb12f3461a45f1ffec25420bd45d41     0.000000      0.01981\n",
       "54053  AC9580fdbe2945eb580cb3337ef0d9386f     0.000000      0.01981"
      ]
     },
     "execution_count": 191,
     "metadata": {},
     "output_type": "execute_result"
    }
   ],
   "source": [
    "get_top('bag_predict')"
   ]
  },
  {
   "cell_type": "markdown",
   "id": "810666d4",
   "metadata": {},
   "source": [
    "### Boosting"
   ]
  },
  {
   "cell_type": "code",
   "execution_count": 153,
   "id": "58739b49",
   "metadata": {},
   "outputs": [
    {
     "name": "stdout",
     "output_type": "stream",
     "text": [
      "Root Mean Squared Error w mean: 0.00011354923989482196\n"
     ]
    },
    {
     "data": {
      "text/plain": [
       "0.00011094062663826243"
      ]
     },
     "execution_count": 153,
     "metadata": {},
     "output_type": "execute_result"
    }
   ],
   "source": [
    "reg = GradientBoostingRegressor(loss='huber',n_estimators=1000,random_state=0)\n",
    "reg.fit(x_train, y_train)\n",
    "predict = reg.predict(X)\n",
    "print('Root Mean Squared Error w mean:', np.sqrt(metrics.mean_squared_error(y, y_bar)))\n",
    "np.sqrt(metrics.mean_squared_error(y, predict))"
   ]
  },
  {
   "cell_type": "code",
   "execution_count": 154,
   "id": "49aa45c6",
   "metadata": {},
   "outputs": [
    {
     "name": "stdout",
     "output_type": "stream",
     "text": [
      "Root Mean Squared Error w mean: 0.00011354923989482196\n"
     ]
    },
    {
     "data": {
      "text/plain": [
       "0.00011502195840196244"
      ]
     },
     "execution_count": 154,
     "metadata": {},
     "output_type": "execute_result"
    }
   ],
   "source": [
    "reg = GradientBoostingRegressor(loss='lad',n_estimators=1000,random_state=0)\n",
    "reg.fit(x_train, y_train)\n",
    "predict = reg.predict(X)\n",
    "print('Root Mean Squared Error w mean:', np.sqrt(metrics.mean_squared_error(y, y_bar)))\n",
    "np.sqrt(metrics.mean_squared_error(y, predict))"
   ]
  },
  {
   "cell_type": "code",
   "execution_count": 160,
   "id": "0b93314f",
   "metadata": {},
   "outputs": [
    {
     "data": {
      "text/plain": [
       "(0.011669471633576723, {'loss': 'huber', 'n_estimators': 100})"
      ]
     },
     "execution_count": 160,
     "metadata": {},
     "output_type": "execute_result"
    }
   ],
   "source": [
    "#hyperparameter tuning\n",
    "parameters = {\n",
    "    'loss':('huber','lad'),\n",
    "    'n_estimators':(30,40,50,60,70,100,200,300),\n",
    "}\n",
    "model = GridSearchCV(GradientBoostingRegressor(),parameters,cv=5)\n",
    "model.fit(x_train, y_train)\n",
    "model.best_score_,model.best_params_"
   ]
  },
  {
   "cell_type": "code",
   "execution_count": 161,
   "id": "aadc5d67",
   "metadata": {},
   "outputs": [
    {
     "name": "stdout",
     "output_type": "stream",
     "text": [
      "Root Mean Squared Error w mean: 0.00011354923989482196\n"
     ]
    },
    {
     "data": {
      "text/plain": [
       "0.00011072276564597601"
      ]
     },
     "execution_count": 161,
     "metadata": {},
     "output_type": "execute_result"
    }
   ],
   "source": [
    "#Re-train model with the best parameters\n",
    "model = GradientBoostingRegressor(loss='huber',n_estimators=100)\n",
    "model.fit(x_train,y_train)\n",
    "predict = model.predict(X)\n",
    "print('Root Mean Squared Error w mean:', np.sqrt(metrics.mean_squared_error(y, y_bar)))\n",
    "np.sqrt(metrics.mean_squared_error(y, predict))"
   ]
  },
  {
   "cell_type": "code",
   "execution_count": 163,
   "id": "15a75ca9",
   "metadata": {},
   "outputs": [
    {
     "data": {
      "text/plain": [
       "(0.030263389683138263, {'loss': 'lad', 'max_depth': 6, 'n_estimators': 70})"
      ]
     },
     "execution_count": 163,
     "metadata": {},
     "output_type": "execute_result"
    }
   ],
   "source": [
    "#hyperparameter tuning\n",
    "parameters = {\n",
    "    'loss':('huber','lad'),\n",
    "    'n_estimators':(30,40,50,60,70,100,200,300),\n",
    "    'max_depth':(2,4,6,8)\n",
    "}\n",
    "model = GridSearchCV(GradientBoostingRegressor(),parameters,cv=5)\n",
    "model.fit(x_train, y_train)\n",
    "model.best_score_,model.best_params_"
   ]
  },
  {
   "cell_type": "code",
   "execution_count": 195,
   "id": "4b9b94f0",
   "metadata": {},
   "outputs": [
    {
     "name": "stdout",
     "output_type": "stream",
     "text": [
      "Root Mean Squared Error w mean: 0.00011354923989482196\n"
     ]
    },
    {
     "data": {
      "text/plain": [
       "0.00010969884955906693"
      ]
     },
     "execution_count": 195,
     "metadata": {},
     "output_type": "execute_result"
    }
   ],
   "source": [
    "#Re-train model with the best parameters\n",
    "model = GradientBoostingRegressor(loss='lad',n_estimators=70,max_depth=6)\n",
    "model.fit(x_train,y_train)\n",
    "predict = model.predict(X)\n",
    "print('Root Mean Squared Error w mean:', np.sqrt(metrics.mean_squared_error(y, y_bar)))\n",
    "np.sqrt(metrics.mean_squared_error(y, predict))"
   ]
  },
  {
   "cell_type": "code",
   "execution_count": 181,
   "id": "c43344cb",
   "metadata": {},
   "outputs": [
    {
     "data": {
      "text/html": [
       "<div>\n",
       "<style scoped>\n",
       "    .dataframe tbody tr th:only-of-type {\n",
       "        vertical-align: middle;\n",
       "    }\n",
       "\n",
       "    .dataframe tbody tr th {\n",
       "        vertical-align: top;\n",
       "    }\n",
       "\n",
       "    .dataframe thead th {\n",
       "        text-align: right;\n",
       "    }\n",
       "</style>\n",
       "<table border=\"1\" class=\"dataframe\">\n",
       "  <thead>\n",
       "    <tr style=\"text-align: right;\">\n",
       "      <th></th>\n",
       "      <th>feature</th>\n",
       "      <th>importance</th>\n",
       "    </tr>\n",
       "  </thead>\n",
       "  <tbody>\n",
       "    <tr>\n",
       "      <th>5</th>\n",
       "      <td>_30007_perc</td>\n",
       "      <td>0.495272</td>\n",
       "    </tr>\n",
       "    <tr>\n",
       "      <th>3</th>\n",
       "      <td>unreachable_perc</td>\n",
       "      <td>0.240247</td>\n",
       "    </tr>\n",
       "    <tr>\n",
       "      <th>7</th>\n",
       "      <td>_30008_perc</td>\n",
       "      <td>0.156313</td>\n",
       "    </tr>\n",
       "    <tr>\n",
       "      <th>0</th>\n",
       "      <td>age</td>\n",
       "      <td>0.055688</td>\n",
       "    </tr>\n",
       "    <tr>\n",
       "      <th>11</th>\n",
       "      <td>fam_size</td>\n",
       "      <td>0.041643</td>\n",
       "    </tr>\n",
       "    <tr>\n",
       "      <th>6</th>\n",
       "      <td>_21610_perc</td>\n",
       "      <td>0.007013</td>\n",
       "    </tr>\n",
       "    <tr>\n",
       "      <th>1</th>\n",
       "      <td>isv</td>\n",
       "      <td>0.002269</td>\n",
       "    </tr>\n",
       "    <tr>\n",
       "      <th>9</th>\n",
       "      <td>fraud_perc</td>\n",
       "      <td>0.001556</td>\n",
       "    </tr>\n",
       "    <tr>\n",
       "      <th>2</th>\n",
       "      <td>parent</td>\n",
       "      <td>0.000000</td>\n",
       "    </tr>\n",
       "    <tr>\n",
       "      <th>4</th>\n",
       "      <td>default_name</td>\n",
       "      <td>0.000000</td>\n",
       "    </tr>\n",
       "    <tr>\n",
       "      <th>8</th>\n",
       "      <td>aup_perc</td>\n",
       "      <td>0.000000</td>\n",
       "    </tr>\n",
       "    <tr>\n",
       "      <th>10</th>\n",
       "      <td>cannabis</td>\n",
       "      <td>0.000000</td>\n",
       "    </tr>\n",
       "  </tbody>\n",
       "</table>\n",
       "</div>"
      ],
      "text/plain": [
       "             feature  importance\n",
       "5        _30007_perc    0.495272\n",
       "3   unreachable_perc    0.240247\n",
       "7        _30008_perc    0.156313\n",
       "0                age    0.055688\n",
       "11          fam_size    0.041643\n",
       "6        _21610_perc    0.007013\n",
       "1                isv    0.002269\n",
       "9         fraud_perc    0.001556\n",
       "2             parent    0.000000\n",
       "4       default_name    0.000000\n",
       "8           aup_perc    0.000000\n",
       "10          cannabis    0.000000"
      ]
     },
     "execution_count": 181,
     "metadata": {},
     "output_type": "execute_result"
    }
   ],
   "source": [
    "feature_importance = pd.DataFrame({\"feature\": x_test.columns,\n",
    "                                 \"importance\": model.feature_importances_})\n",
    "feature_importance.sort_values(by='importance',ascending = False)"
   ]
  },
  {
   "cell_type": "code",
   "execution_count": 167,
   "id": "289818e6",
   "metadata": {},
   "outputs": [
    {
     "data": {
      "text/html": [
       "<div>\n",
       "<style scoped>\n",
       "    .dataframe tbody tr th:only-of-type {\n",
       "        vertical-align: middle;\n",
       "    }\n",
       "\n",
       "    .dataframe tbody tr th {\n",
       "        vertical-align: top;\n",
       "    }\n",
       "\n",
       "    .dataframe thead th {\n",
       "        text-align: right;\n",
       "    }\n",
       "</style>\n",
       "<table border=\"1\" class=\"dataframe\">\n",
       "  <thead>\n",
       "    <tr style=\"text-align: right;\">\n",
       "      <th></th>\n",
       "      <th>account_sid</th>\n",
       "      <th>_7726_perc</th>\n",
       "      <th>boosting_predict</th>\n",
       "    </tr>\n",
       "  </thead>\n",
       "  <tbody>\n",
       "    <tr>\n",
       "      <th>45871</th>\n",
       "      <td>AC2eee9d2fafa59aa8751561dee2804fd0</td>\n",
       "      <td>0.000607</td>\n",
       "      <td>0.000881</td>\n",
       "    </tr>\n",
       "    <tr>\n",
       "      <th>14723</th>\n",
       "      <td>AC351dcd0bf756313182985535ecb1e61d</td>\n",
       "      <td>0.000000</td>\n",
       "      <td>0.000881</td>\n",
       "    </tr>\n",
       "    <tr>\n",
       "      <th>39371</th>\n",
       "      <td>AC51eb06c6956ac18ae9277c2a6a653007</td>\n",
       "      <td>0.000000</td>\n",
       "      <td>0.000517</td>\n",
       "    </tr>\n",
       "    <tr>\n",
       "      <th>5892</th>\n",
       "      <td>AC47a1a26cabc786c93b8b8ccaec546f2b</td>\n",
       "      <td>0.000000</td>\n",
       "      <td>0.000517</td>\n",
       "    </tr>\n",
       "    <tr>\n",
       "      <th>53305</th>\n",
       "      <td>AC34ac9ce44c75687e9388d9b7ca0867d4</td>\n",
       "      <td>0.000000</td>\n",
       "      <td>0.000517</td>\n",
       "    </tr>\n",
       "    <tr>\n",
       "      <th>21705</th>\n",
       "      <td>AC037c11ea7e8d678dae7fc5700587598d</td>\n",
       "      <td>0.000000</td>\n",
       "      <td>0.000517</td>\n",
       "    </tr>\n",
       "    <tr>\n",
       "      <th>8899</th>\n",
       "      <td>AC627f706ebf22fc2ce7446f5782543b8f</td>\n",
       "      <td>0.000358</td>\n",
       "      <td>0.000491</td>\n",
       "    </tr>\n",
       "    <tr>\n",
       "      <th>67180</th>\n",
       "      <td>AC83ec10100f584c672f53e271a30438de</td>\n",
       "      <td>0.000335</td>\n",
       "      <td>0.000491</td>\n",
       "    </tr>\n",
       "    <tr>\n",
       "      <th>55287</th>\n",
       "      <td>AC7dcf916efa0cc5841a1c88db0d3036d0</td>\n",
       "      <td>0.000382</td>\n",
       "      <td>0.000490</td>\n",
       "    </tr>\n",
       "    <tr>\n",
       "      <th>26399</th>\n",
       "      <td>AC2f002ddf6bd758c09a4c9a38513db381</td>\n",
       "      <td>0.000648</td>\n",
       "      <td>0.000490</td>\n",
       "    </tr>\n",
       "  </tbody>\n",
       "</table>\n",
       "</div>"
      ],
      "text/plain": [
       "                              account_sid  _7726_perc  boosting_predict\n",
       "45871  AC2eee9d2fafa59aa8751561dee2804fd0    0.000607          0.000881\n",
       "14723  AC351dcd0bf756313182985535ecb1e61d    0.000000          0.000881\n",
       "39371  AC51eb06c6956ac18ae9277c2a6a653007    0.000000          0.000517\n",
       "5892   AC47a1a26cabc786c93b8b8ccaec546f2b    0.000000          0.000517\n",
       "53305  AC34ac9ce44c75687e9388d9b7ca0867d4    0.000000          0.000517\n",
       "21705  AC037c11ea7e8d678dae7fc5700587598d    0.000000          0.000517\n",
       "8899   AC627f706ebf22fc2ce7446f5782543b8f    0.000358          0.000491\n",
       "67180  AC83ec10100f584c672f53e271a30438de    0.000335          0.000491\n",
       "55287  AC7dcf916efa0cc5841a1c88db0d3036d0    0.000382          0.000490\n",
       "26399  AC2f002ddf6bd758c09a4c9a38513db381    0.000648          0.000490"
      ]
     },
     "execution_count": 167,
     "metadata": {},
     "output_type": "execute_result"
    }
   ],
   "source": [
    "get_top('boosting_predict')"
   ]
  }
 ],
 "metadata": {
  "kernelspec": {
   "display_name": "Python 3",
   "language": "python",
   "name": "python3"
  },
  "language_info": {
   "codemirror_mode": {
    "name": "ipython",
    "version": 3
   },
   "file_extension": ".py",
   "mimetype": "text/x-python",
   "name": "python",
   "nbconvert_exporter": "python",
   "pygments_lexer": "ipython3",
   "version": "3.9.5"
  }
 },
 "nbformat": 4,
 "nbformat_minor": 5
}
