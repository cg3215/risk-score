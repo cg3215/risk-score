{
 "cells": [
  {
   "cell_type": "markdown",
   "id": "7856ce88",
   "metadata": {},
   "source": [
    "Description: Opt-out Rate Predictions\n",
    "\n",
    "Author: Elena (Chaoran) Gou\n",
    "\n",
    "Last Update: 08/14/2021"
   ]
  },
  {
   "cell_type": "code",
   "execution_count": 51,
   "id": "beb90df3",
   "metadata": {},
   "outputs": [],
   "source": [
    "import pandas as pd\n",
    "import numpy as np\n",
    "\n",
    "import sys\n",
    "import warnings\n",
    "warnings.filterwarnings('ignore')\n",
    "import matplotlib.pyplot as plt\n",
    "from matplotlib.legend_handler import HandlerLine2D\n",
    "import seaborn as sns\n",
    "\n",
    "import statsmodels.formula.api as smf\n",
    "import statsmodels.api as sm\n",
    "from statsmodels.sandbox.regression.predstd import wls_prediction_std\n",
    "\n",
    "from sklearn.model_selection import train_test_split, cross_val_predict, GridSearchCV\n",
    "from sklearn.preprocessing import StandardScaler\n",
    "from sklearn.tree import DecisionTreeRegressor\n",
    "from sklearn.ensemble import RandomForestRegressor, BaggingRegressor, GradientBoostingRegressor\n",
    "from sklearn import metrics\n",
    "from sklearn.neighbors import KNeighborsRegressor\n",
    "from sklearn.inspection import permutation_importance\n",
    "from sklearn.neural_network import MLPRegressor\n",
    "from sklearn.svm import SVR\n",
    "\n",
    "np.random.seed(2000)"
   ]
  },
  {
   "cell_type": "code",
   "execution_count": 52,
   "id": "4d2e68d1",
   "metadata": {},
   "outputs": [],
   "source": [
    "### Twilio brand colors: https://www.twilio.com/brand/resources/colorresources\n",
    "\n",
    "# Primary Twilio brand colors\n",
    "tw_red = '#F22F46'\n",
    "night = '#001489'\n",
    "\n",
    "# Secondary Twilio brand colors\n",
    "blue = '#008CFF' # blue_50\n",
    "green = '#36D576' # green_50\n",
    "tangerine = '#F47C22' \n",
    "yellow = '#FFDD35' #yellow_40\n",
    "purple = '#8C5BD8' #purple_50\n",
    "\n",
    "# extended pallete\n",
    "gray_30 = '#CACDD8' \n",
    "red_30 = '#f6b1b1' \n",
    "orange_30 = '#FAC2A0' \n",
    "green_30 = '#A2F6C3'\n",
    "blue_30 = '#99CDFF'\n",
    "purple_30 = '#C8AFF0'\n",
    "gray_70 = '#4B5671'\n",
    "red_70 = '#ad1111'\n",
    "orange_70 = '#C35323'\n",
    "green_70 = '#0E7C3A'\n",
    "blue_70 = '#043CB5'\n",
    "yellow_70 = '#C28E00'\n",
    "purple_70 = '#5817BD'\n",
    "\n",
    "teal = '#00BCD4'\n",
    "mauve = '##DEA7E8'\n",
    "\n",
    "charting_colors = [blue, green, tangerine, purple, yellow, tw_red, night, \n",
    "                   gray_30, red_30, blue_30, orange_30, green_30, purple_30,\n",
    "                   gray_70, red_70, blue_70, orange_70, green_70, purple_70]\n",
    "\n",
    "#'#FF5722', '#FA9950', '#FAD100', '#4CB04F', '#36D576', '#303F9F', '#2196F3', '#00BCD4', '#00E5FF', '#7B1FA2', '#7C4DFF', '#880E4F', '#DEA7E8', '#FF4081', '#9E9E9E'\n",
    "\n",
    "\n",
    "# Twilio fonts\n",
    "fonts = ['Helvetica Neue', 'Helvetica', 'Arial', 'sans-serif']\n",
    "\n",
    "# set colors and fonts\n",
    "sns.set_style('ticks', {'axes.linewidth': 2., 'font.sans-serif': fonts, 'font.family': 'Helvetica Neue'})\n",
    "plt.rc('figure', figsize=(16, 10))\n",
    "sns.set_context('poster', font_scale=1.0)\n",
    "sns.set_palette(charting_colors)"
   ]
  },
  {
   "cell_type": "markdown",
   "id": "80138455",
   "metadata": {},
   "source": [
    "### Read in Datasets"
   ]
  },
  {
   "cell_type": "code",
   "execution_count": 53,
   "id": "5f39c215",
   "metadata": {},
   "outputs": [
    {
     "data": {
      "text/html": [
       "<div>\n",
       "<style scoped>\n",
       "    .dataframe tbody tr th:only-of-type {\n",
       "        vertical-align: middle;\n",
       "    }\n",
       "\n",
       "    .dataframe tbody tr th {\n",
       "        vertical-align: top;\n",
       "    }\n",
       "\n",
       "    .dataframe thead th {\n",
       "        text-align: right;\n",
       "    }\n",
       "</style>\n",
       "<table border=\"1\" class=\"dataframe\">\n",
       "  <thead>\n",
       "    <tr style=\"text-align: right;\">\n",
       "      <th></th>\n",
       "      <th>attempted</th>\n",
       "      <th>account_sid</th>\n",
       "      <th>delivered</th>\n",
       "      <th>optouts</th>\n",
       "      <th>_7726</th>\n",
       "      <th>unreachable</th>\n",
       "      <th>_30007</th>\n",
       "      <th>_30008</th>\n",
       "      <th>_21610</th>\n",
       "      <th>aup</th>\n",
       "      <th>...</th>\n",
       "      <th>friendly_name</th>\n",
       "      <th>default_name</th>\n",
       "      <th>optout_perc</th>\n",
       "      <th>_7726_perc</th>\n",
       "      <th>_30008_perc</th>\n",
       "      <th>_30007_perc</th>\n",
       "      <th>_21610_perc</th>\n",
       "      <th>unreachable_perc</th>\n",
       "      <th>aup_perc</th>\n",
       "      <th>fraud_perc</th>\n",
       "    </tr>\n",
       "  </thead>\n",
       "  <tbody>\n",
       "    <tr>\n",
       "      <th>0</th>\n",
       "      <td>291830197</td>\n",
       "      <td>AC0c4da9c0a8c20ea8890c2ca186768bed</td>\n",
       "      <td>279827613.0</td>\n",
       "      <td>0.0</td>\n",
       "      <td>383.0</td>\n",
       "      <td>10232167</td>\n",
       "      <td>677429</td>\n",
       "      <td>671412</td>\n",
       "      <td>3538</td>\n",
       "      <td>0.0</td>\n",
       "      <td>...</td>\n",
       "      <td>us-east-1</td>\n",
       "      <td>0.0</td>\n",
       "      <td>0.000000</td>\n",
       "      <td>0.000001</td>\n",
       "      <td>0.002301</td>\n",
       "      <td>0.002321</td>\n",
       "      <td>0.000012</td>\n",
       "      <td>0.035062</td>\n",
       "      <td>0.0</td>\n",
       "      <td>0.0</td>\n",
       "    </tr>\n",
       "    <tr>\n",
       "      <th>1</th>\n",
       "      <td>770805</td>\n",
       "      <td>ACbdccf1d7b857189e72fdb51c878d34db</td>\n",
       "      <td>768406.0</td>\n",
       "      <td>0.0</td>\n",
       "      <td>0.0</td>\n",
       "      <td>1674</td>\n",
       "      <td>0</td>\n",
       "      <td>725</td>\n",
       "      <td>0</td>\n",
       "      <td>0.0</td>\n",
       "      <td>...</td>\n",
       "      <td>Samsung</td>\n",
       "      <td>0.0</td>\n",
       "      <td>0.000000</td>\n",
       "      <td>0.000000</td>\n",
       "      <td>0.000941</td>\n",
       "      <td>0.000000</td>\n",
       "      <td>0.000000</td>\n",
       "      <td>0.002172</td>\n",
       "      <td>0.0</td>\n",
       "      <td>0.0</td>\n",
       "    </tr>\n",
       "    <tr>\n",
       "      <th>2</th>\n",
       "      <td>92827</td>\n",
       "      <td>AC21e3df471603c934315eb61694a18ab2</td>\n",
       "      <td>90908.0</td>\n",
       "      <td>1.0</td>\n",
       "      <td>0.0</td>\n",
       "      <td>935</td>\n",
       "      <td>0</td>\n",
       "      <td>984</td>\n",
       "      <td>0</td>\n",
       "      <td>0.0</td>\n",
       "      <td>...</td>\n",
       "      <td>j.teichert@vivenu.com's Account</td>\n",
       "      <td>0.0</td>\n",
       "      <td>0.000011</td>\n",
       "      <td>0.000000</td>\n",
       "      <td>0.010600</td>\n",
       "      <td>0.000000</td>\n",
       "      <td>0.000000</td>\n",
       "      <td>0.010073</td>\n",
       "      <td>0.0</td>\n",
       "      <td>0.0</td>\n",
       "    </tr>\n",
       "    <tr>\n",
       "      <th>3</th>\n",
       "      <td>4682</td>\n",
       "      <td>AC4be872f5cb700cf41676089db563bbc9</td>\n",
       "      <td>4518.0</td>\n",
       "      <td>0.0</td>\n",
       "      <td>0.0</td>\n",
       "      <td>158</td>\n",
       "      <td>3</td>\n",
       "      <td>2</td>\n",
       "      <td>0</td>\n",
       "      <td>0.0</td>\n",
       "      <td>...</td>\n",
       "      <td>Meevo M2NA0_ T10713-Tenant: 45206</td>\n",
       "      <td>0.0</td>\n",
       "      <td>0.000000</td>\n",
       "      <td>0.000000</td>\n",
       "      <td>0.000427</td>\n",
       "      <td>0.000641</td>\n",
       "      <td>0.000000</td>\n",
       "      <td>0.033746</td>\n",
       "      <td>0.0</td>\n",
       "      <td>0.0</td>\n",
       "    </tr>\n",
       "    <tr>\n",
       "      <th>4</th>\n",
       "      <td>25605</td>\n",
       "      <td>AC4cac4fec76a9decc2838641318025fa6</td>\n",
       "      <td>22138.0</td>\n",
       "      <td>327.0</td>\n",
       "      <td>3.0</td>\n",
       "      <td>3432</td>\n",
       "      <td>9</td>\n",
       "      <td>26</td>\n",
       "      <td>0</td>\n",
       "      <td>0.0</td>\n",
       "      <td>...</td>\n",
       "      <td>k.morrisonhealthadvisor@gmail.com</td>\n",
       "      <td>0.0</td>\n",
       "      <td>0.014771</td>\n",
       "      <td>0.000136</td>\n",
       "      <td>0.001015</td>\n",
       "      <td>0.000351</td>\n",
       "      <td>0.000000</td>\n",
       "      <td>0.134036</td>\n",
       "      <td>0.0</td>\n",
       "      <td>0.0</td>\n",
       "    </tr>\n",
       "  </tbody>\n",
       "</table>\n",
       "<p>5 rows × 26 columns</p>\n",
       "</div>"
      ],
      "text/plain": [
       "   attempted                         account_sid    delivered  optouts  _7726  \\\n",
       "0  291830197  AC0c4da9c0a8c20ea8890c2ca186768bed  279827613.0      0.0  383.0   \n",
       "1     770805  ACbdccf1d7b857189e72fdb51c878d34db     768406.0      0.0    0.0   \n",
       "2      92827  AC21e3df471603c934315eb61694a18ab2      90908.0      1.0    0.0   \n",
       "3       4682  AC4be872f5cb700cf41676089db563bbc9       4518.0      0.0    0.0   \n",
       "4      25605  AC4cac4fec76a9decc2838641318025fa6      22138.0    327.0    3.0   \n",
       "\n",
       "   unreachable  _30007  _30008  _21610  aup  ...  \\\n",
       "0     10232167  677429  671412    3538  0.0  ...   \n",
       "1         1674       0     725       0  0.0  ...   \n",
       "2          935       0     984       0  0.0  ...   \n",
       "3          158       3       2       0  0.0  ...   \n",
       "4         3432       9      26       0  0.0  ...   \n",
       "\n",
       "                       friendly_name  default_name  optout_perc  _7726_perc  \\\n",
       "0                          us-east-1           0.0     0.000000    0.000001   \n",
       "1                            Samsung           0.0     0.000000    0.000000   \n",
       "2    j.teichert@vivenu.com's Account           0.0     0.000011    0.000000   \n",
       "3  Meevo M2NA0_ T10713-Tenant: 45206           0.0     0.000000    0.000000   \n",
       "4  k.morrisonhealthadvisor@gmail.com           0.0     0.014771    0.000136   \n",
       "\n",
       "   _30008_perc  _30007_perc _21610_perc  unreachable_perc  aup_perc  \\\n",
       "0     0.002301     0.002321    0.000012          0.035062       0.0   \n",
       "1     0.000941     0.000000    0.000000          0.002172       0.0   \n",
       "2     0.010600     0.000000    0.000000          0.010073       0.0   \n",
       "3     0.000427     0.000641    0.000000          0.033746       0.0   \n",
       "4     0.001015     0.000351    0.000000          0.134036       0.0   \n",
       "\n",
       "   fraud_perc  \n",
       "0         0.0  \n",
       "1         0.0  \n",
       "2         0.0  \n",
       "3         0.0  \n",
       "4         0.0  \n",
       "\n",
       "[5 rows x 26 columns]"
      ]
     },
     "execution_count": 53,
     "metadata": {},
     "output_type": "execute_result"
    }
   ],
   "source": [
    "account = pd.read_csv('feature_engineered_May.csv')\n",
    "account.head()"
   ]
  },
  {
   "cell_type": "code",
   "execution_count": 54,
   "id": "3d09c937",
   "metadata": {},
   "outputs": [
    {
     "data": {
      "text/html": [
       "<div>\n",
       "<style scoped>\n",
       "    .dataframe tbody tr th:only-of-type {\n",
       "        vertical-align: middle;\n",
       "    }\n",
       "\n",
       "    .dataframe tbody tr th {\n",
       "        vertical-align: top;\n",
       "    }\n",
       "\n",
       "    .dataframe thead th {\n",
       "        text-align: right;\n",
       "    }\n",
       "</style>\n",
       "<table border=\"1\" class=\"dataframe\">\n",
       "  <thead>\n",
       "    <tr style=\"text-align: right;\">\n",
       "      <th></th>\n",
       "      <th>attempted</th>\n",
       "      <th>account_sid</th>\n",
       "      <th>delivered</th>\n",
       "      <th>optouts</th>\n",
       "      <th>_7726</th>\n",
       "      <th>cannabis</th>\n",
       "      <th>unreachable</th>\n",
       "      <th>_30007</th>\n",
       "      <th>_30008</th>\n",
       "      <th>_21610</th>\n",
       "      <th>...</th>\n",
       "      <th>_30008_perc</th>\n",
       "      <th>_30007_perc</th>\n",
       "      <th>_21610_perc</th>\n",
       "      <th>unreachable_perc</th>\n",
       "      <th>aup_perc</th>\n",
       "      <th>fraud_perc</th>\n",
       "      <th>age</th>\n",
       "      <th>parent</th>\n",
       "      <th>isv</th>\n",
       "      <th>fam_size</th>\n",
       "    </tr>\n",
       "  </thead>\n",
       "  <tbody>\n",
       "    <tr>\n",
       "      <th>0</th>\n",
       "      <td>26038</td>\n",
       "      <td>AC9f3116fcac59b5b68a451cba28f5a731</td>\n",
       "      <td>23407.0</td>\n",
       "      <td>1354.0</td>\n",
       "      <td>1.0</td>\n",
       "      <td>0</td>\n",
       "      <td>15</td>\n",
       "      <td>0</td>\n",
       "      <td>2616</td>\n",
       "      <td>0</td>\n",
       "      <td>...</td>\n",
       "      <td>0.100469</td>\n",
       "      <td>0.000000</td>\n",
       "      <td>0.000000</td>\n",
       "      <td>0.000576</td>\n",
       "      <td>0.0</td>\n",
       "      <td>0.0</td>\n",
       "      <td>5</td>\n",
       "      <td>1</td>\n",
       "      <td>1</td>\n",
       "      <td>682</td>\n",
       "    </tr>\n",
       "    <tr>\n",
       "      <th>1</th>\n",
       "      <td>536793</td>\n",
       "      <td>AC06ea2a0e2f80d342b45f46e42571dd02</td>\n",
       "      <td>504624.0</td>\n",
       "      <td>479.0</td>\n",
       "      <td>0.0</td>\n",
       "      <td>0</td>\n",
       "      <td>31670</td>\n",
       "      <td>183</td>\n",
       "      <td>316</td>\n",
       "      <td>0</td>\n",
       "      <td>...</td>\n",
       "      <td>0.000589</td>\n",
       "      <td>0.000341</td>\n",
       "      <td>0.000000</td>\n",
       "      <td>0.058999</td>\n",
       "      <td>0.0</td>\n",
       "      <td>0.0</td>\n",
       "      <td>68</td>\n",
       "      <td>0</td>\n",
       "      <td>0</td>\n",
       "      <td>3</td>\n",
       "    </tr>\n",
       "    <tr>\n",
       "      <th>2</th>\n",
       "      <td>2278</td>\n",
       "      <td>AC9d6d9155f700898c3f4fb05c4e90188b</td>\n",
       "      <td>2240.0</td>\n",
       "      <td>0.0</td>\n",
       "      <td>0.0</td>\n",
       "      <td>0</td>\n",
       "      <td>4</td>\n",
       "      <td>0</td>\n",
       "      <td>27</td>\n",
       "      <td>0</td>\n",
       "      <td>...</td>\n",
       "      <td>0.011853</td>\n",
       "      <td>0.000000</td>\n",
       "      <td>0.000000</td>\n",
       "      <td>0.001756</td>\n",
       "      <td>0.0</td>\n",
       "      <td>0.0</td>\n",
       "      <td>31</td>\n",
       "      <td>0</td>\n",
       "      <td>0</td>\n",
       "      <td>1</td>\n",
       "    </tr>\n",
       "    <tr>\n",
       "      <th>3</th>\n",
       "      <td>22281</td>\n",
       "      <td>ACac15107fc288db00551d7d26bc4cc764</td>\n",
       "      <td>19295.0</td>\n",
       "      <td>132.0</td>\n",
       "      <td>0.0</td>\n",
       "      <td>0</td>\n",
       "      <td>1191</td>\n",
       "      <td>0</td>\n",
       "      <td>266</td>\n",
       "      <td>1475</td>\n",
       "      <td>...</td>\n",
       "      <td>0.011938</td>\n",
       "      <td>0.000000</td>\n",
       "      <td>0.066200</td>\n",
       "      <td>0.053454</td>\n",
       "      <td>0.0</td>\n",
       "      <td>0.0</td>\n",
       "      <td>68</td>\n",
       "      <td>0</td>\n",
       "      <td>0</td>\n",
       "      <td>7</td>\n",
       "    </tr>\n",
       "    <tr>\n",
       "      <th>4</th>\n",
       "      <td>550054</td>\n",
       "      <td>AC55880b122abfcb40df3510b02f02ed9e</td>\n",
       "      <td>521606.0</td>\n",
       "      <td>0.0</td>\n",
       "      <td>0.0</td>\n",
       "      <td>0</td>\n",
       "      <td>27300</td>\n",
       "      <td>1</td>\n",
       "      <td>582</td>\n",
       "      <td>142</td>\n",
       "      <td>...</td>\n",
       "      <td>0.001058</td>\n",
       "      <td>0.000002</td>\n",
       "      <td>0.000258</td>\n",
       "      <td>0.049631</td>\n",
       "      <td>0.0</td>\n",
       "      <td>0.0</td>\n",
       "      <td>20</td>\n",
       "      <td>1</td>\n",
       "      <td>1</td>\n",
       "      <td>82</td>\n",
       "    </tr>\n",
       "  </tbody>\n",
       "</table>\n",
       "<p>5 rows × 26 columns</p>\n",
       "</div>"
      ],
      "text/plain": [
       "   attempted                         account_sid  delivered  optouts  _7726  \\\n",
       "0      26038  AC9f3116fcac59b5b68a451cba28f5a731    23407.0   1354.0    1.0   \n",
       "1     536793  AC06ea2a0e2f80d342b45f46e42571dd02   504624.0    479.0    0.0   \n",
       "2       2278  AC9d6d9155f700898c3f4fb05c4e90188b     2240.0      0.0    0.0   \n",
       "3      22281  ACac15107fc288db00551d7d26bc4cc764    19295.0    132.0    0.0   \n",
       "4     550054  AC55880b122abfcb40df3510b02f02ed9e   521606.0      0.0    0.0   \n",
       "\n",
       "   cannabis  unreachable  _30007  _30008  _21610  ...  _30008_perc  \\\n",
       "0         0           15       0    2616       0  ...     0.100469   \n",
       "1         0        31670     183     316       0  ...     0.000589   \n",
       "2         0            4       0      27       0  ...     0.011853   \n",
       "3         0         1191       0     266    1475  ...     0.011938   \n",
       "4         0        27300       1     582     142  ...     0.001058   \n",
       "\n",
       "   _30007_perc _21610_perc  unreachable_perc  aup_perc  fraud_perc  age  \\\n",
       "0     0.000000    0.000000          0.000576       0.0         0.0    5   \n",
       "1     0.000341    0.000000          0.058999       0.0         0.0   68   \n",
       "2     0.000000    0.000000          0.001756       0.0         0.0   31   \n",
       "3     0.000000    0.066200          0.053454       0.0         0.0   68   \n",
       "4     0.000002    0.000258          0.049631       0.0         0.0   20   \n",
       "\n",
       "   parent  isv  fam_size  \n",
       "0       1    1       682  \n",
       "1       0    0         3  \n",
       "2       0    0         1  \n",
       "3       0    0         7  \n",
       "4       1    1        82  \n",
       "\n",
       "[5 rows x 26 columns]"
      ]
     },
     "execution_count": 54,
     "metadata": {},
     "output_type": "execute_result"
    }
   ],
   "source": [
    "june = pd.read_csv('feature_engineered_June.csv')\n",
    "june.head()"
   ]
  },
  {
   "cell_type": "markdown",
   "id": "21d44e0b",
   "metadata": {},
   "source": [
    "### Decision Tree"
   ]
  },
  {
   "cell_type": "code",
   "execution_count": 55,
   "id": "581d0ebe",
   "metadata": {},
   "outputs": [],
   "source": [
    "feature_perc = ['age','isv','parent','unreachable_perc',\n",
    "       '_30007_perc', '_21610_perc', '_30008_perc', \n",
    "       'aup_perc','fraud_perc','cannabis','fam_size', 'default_name']"
   ]
  },
  {
   "cell_type": "code",
   "execution_count": 56,
   "id": "2ef28c07",
   "metadata": {},
   "outputs": [],
   "source": [
    "#Train test split\n",
    "train, test = train_test_split(account, test_size=0.3)\n",
    "x_train = train[feature_perc]\n",
    "y_train = train['optout_perc']\n",
    "\n",
    "x_test = test[feature_perc]\n",
    "y_test = test['optout_perc']\n",
    "\n",
    "#Create prediction data\n",
    "X=june[feature_perc]\n",
    "y=june['optout_perc']\n",
    "\n",
    "#Generate values to calculate mean RMSE\n",
    "y_bar = [y.mean()]*len(y)\n",
    "train_bar = [y_train.mean()]*len(y_train)\n",
    "test_bar = [y_test.mean()]*len(y_test)"
   ]
  },
  {
   "cell_type": "markdown",
   "id": "b91e1b9c",
   "metadata": {},
   "source": [
    "Reference: https://medium.com/@mohtedibf/indepth-parameter-tuning-for-decision-tree-6753118a03c3"
   ]
  },
  {
   "cell_type": "code",
   "execution_count": 57,
   "id": "88e46112",
   "metadata": {},
   "outputs": [
    {
     "data": {
      "image/png": "[encoded data removed]",
      "text/plain": [
       "<Figure size 1152x720 with 1 Axes>"
      ]
     },
     "metadata": {},
     "output_type": "display_data"
    }
   ],
   "source": [
    "index = np.linspace(1, 50, 50, endpoint=True)\n",
    "result = pd.DataFrame(index = index, columns=('train_results', 'test_results'))\n",
    "for max_depth in index:\n",
    "   dt = DecisionTreeRegressor(max_depth=max_depth)\n",
    "   dt.fit(x_train, y_train)\n",
    "   train_pred = dt.predict(x_train)\n",
    "   # Add rmse\n",
    "   result.at[max_depth,'train_results']=np.sqrt(metrics.mean_squared_error(y_train, train_pred))\n",
    "   test_pred = dt.predict(x_test)\n",
    "   result.at[max_depth,'test_results']=np.sqrt(metrics.mean_squared_error(y_test, test_pred))\n",
    "\n",
    "# Plotting RMSE for different tree depths\n",
    "line1, = plt.plot(index, result['train_results'], label='Train RMSE')\n",
    "line2, = plt.plot(index, result['test_results'], label='Test RMSE')\n",
    "plt.legend(handler_map={line1: HandlerLine2D(numpoints=2)})\n",
    "plt.title('RMSE for Different Max Depth')\n",
    "plt.ylabel('RMSE')\n",
    "plt.xlabel('Tree depth')\n",
    "plt.show()"
   ]
  },
  {
   "cell_type": "code",
   "execution_count": 64,
   "id": "d72004be",
   "metadata": {},
   "outputs": [
    {
     "name": "stdout",
     "output_type": "stream",
     "text": [
      "Root Mean Squared Error w mean: 0.014416552295850734\n",
      "Optimal Max Depth:  9.0\n",
      "Smallest RMSE:  0.014366537077820705\n"
     ]
    }
   ],
   "source": [
    "result['test_results'] = pd.to_numeric(result['test_results'])\n",
    "print('Root Mean Squared Error w mean:', np.sqrt(metrics.mean_squared_error(y, y_bar)))\n",
    "optimal_dep = result['test_results'].idxmin()\n",
    "print(\"Optimal Max Depth: \",optimal_dep)\n",
    "print(\"Smallest RMSE: \",min(result['test_results']))"
   ]
  },
  {
   "cell_type": "code",
   "execution_count": 31,
   "id": "8b34f5cb",
   "metadata": {},
   "outputs": [
    {
     "data": {
      "text/plain": [
       "DecisionTreeRegressor(max_depth=7, random_state=0)"
      ]
     },
     "execution_count": 31,
     "metadata": {},
     "output_type": "execute_result"
    }
   ],
   "source": [
    "#Tree depth of 9 has the best result\n",
    "regr = tree.DecisionTreeRegressor(max_depth=optimal_dep,random_state=0)\n",
    "regr.fit(x_train,y_train)"
   ]
  },
  {
   "cell_type": "code",
   "execution_count": 33,
   "id": "40588738",
   "metadata": {},
   "outputs": [
    {
     "data": {
      "text/plain": [
       "0.32256112886413657"
      ]
     },
     "execution_count": 33,
     "metadata": {},
     "output_type": "execute_result"
    }
   ],
   "source": [
    "#R-squared\n",
    "regr.score(x_train,y_train)"
   ]
  },
  {
   "cell_type": "code",
   "execution_count": 34,
   "id": "7101d84a",
   "metadata": {},
   "outputs": [
    {
     "data": {
      "text/plain": [
       "0.049940038426687594"
      ]
     },
     "execution_count": 34,
     "metadata": {},
     "output_type": "execute_result"
    }
   ],
   "source": [
    "regr.score(x_test,y_test)"
   ]
  },
  {
   "cell_type": "code",
   "execution_count": 35,
   "id": "ac9e865f",
   "metadata": {},
   "outputs": [
    {
     "data": {
      "text/html": [
       "<div>\n",
       "<style scoped>\n",
       "    .dataframe tbody tr th:only-of-type {\n",
       "        vertical-align: middle;\n",
       "    }\n",
       "\n",
       "    .dataframe tbody tr th {\n",
       "        vertical-align: top;\n",
       "    }\n",
       "\n",
       "    .dataframe thead th {\n",
       "        text-align: right;\n",
       "    }\n",
       "</style>\n",
       "<table border=\"1\" class=\"dataframe\">\n",
       "  <thead>\n",
       "    <tr style=\"text-align: right;\">\n",
       "      <th></th>\n",
       "      <th>feature</th>\n",
       "      <th>importance</th>\n",
       "    </tr>\n",
       "  </thead>\n",
       "  <tbody>\n",
       "    <tr>\n",
       "      <th>10</th>\n",
       "      <td>fam_size</td>\n",
       "      <td>0.266737</td>\n",
       "    </tr>\n",
       "    <tr>\n",
       "      <th>4</th>\n",
       "      <td>_30007_perc</td>\n",
       "      <td>0.216465</td>\n",
       "    </tr>\n",
       "    <tr>\n",
       "      <th>3</th>\n",
       "      <td>unreachable_perc</td>\n",
       "      <td>0.197198</td>\n",
       "    </tr>\n",
       "    <tr>\n",
       "      <th>0</th>\n",
       "      <td>age</td>\n",
       "      <td>0.143794</td>\n",
       "    </tr>\n",
       "    <tr>\n",
       "      <th>5</th>\n",
       "      <td>_21610_perc</td>\n",
       "      <td>0.070155</td>\n",
       "    </tr>\n",
       "    <tr>\n",
       "      <th>6</th>\n",
       "      <td>_30008_perc</td>\n",
       "      <td>0.054291</td>\n",
       "    </tr>\n",
       "    <tr>\n",
       "      <th>2</th>\n",
       "      <td>parent</td>\n",
       "      <td>0.044016</td>\n",
       "    </tr>\n",
       "    <tr>\n",
       "      <th>1</th>\n",
       "      <td>isv</td>\n",
       "      <td>0.004598</td>\n",
       "    </tr>\n",
       "    <tr>\n",
       "      <th>8</th>\n",
       "      <td>fraud_perc</td>\n",
       "      <td>0.002747</td>\n",
       "    </tr>\n",
       "    <tr>\n",
       "      <th>7</th>\n",
       "      <td>aup_perc</td>\n",
       "      <td>0.000000</td>\n",
       "    </tr>\n",
       "    <tr>\n",
       "      <th>9</th>\n",
       "      <td>cannabis</td>\n",
       "      <td>0.000000</td>\n",
       "    </tr>\n",
       "    <tr>\n",
       "      <th>11</th>\n",
       "      <td>default_name</td>\n",
       "      <td>0.000000</td>\n",
       "    </tr>\n",
       "  </tbody>\n",
       "</table>\n",
       "</div>"
      ],
      "text/plain": [
       "             feature  importance\n",
       "10          fam_size    0.266737\n",
       "4        _30007_perc    0.216465\n",
       "3   unreachable_perc    0.197198\n",
       "0                age    0.143794\n",
       "5        _21610_perc    0.070155\n",
       "6        _30008_perc    0.054291\n",
       "2             parent    0.044016\n",
       "1                isv    0.004598\n",
       "8         fraud_perc    0.002747\n",
       "7           aup_perc    0.000000\n",
       "9           cannabis    0.000000\n",
       "11      default_name    0.000000"
      ]
     },
     "execution_count": 35,
     "metadata": {},
     "output_type": "execute_result"
    }
   ],
   "source": [
    "feature_importance = pd.DataFrame({\"feature\": x_test.columns,\n",
    "                                 \"importance\": regr.feature_importances_})\n",
    "feature_importance.sort_values(by='importance',ascending = False)"
   ]
  },
  {
   "cell_type": "markdown",
   "id": "d0965b72",
   "metadata": {},
   "source": [
    "### Prediction"
   ]
  },
  {
   "cell_type": "code",
   "execution_count": 40,
   "id": "f60cad99",
   "metadata": {},
   "outputs": [],
   "source": [
    "#Predict June opt-out rate and view top 10 predicted values\n",
    "def get_top(string):\n",
    "    june[string]=regr.predict(X)\n",
    "    return june.sort_values(by=string,ascending=False)[['account_sid','optout_perc',string]].head(10)"
   ]
  },
  {
   "cell_type": "code",
   "execution_count": 35,
   "id": "be01c045",
   "metadata": {},
   "outputs": [
    {
     "data": {
      "text/html": [
       "<div>\n",
       "<style scoped>\n",
       "    .dataframe tbody tr th:only-of-type {\n",
       "        vertical-align: middle;\n",
       "    }\n",
       "\n",
       "    .dataframe tbody tr th {\n",
       "        vertical-align: top;\n",
       "    }\n",
       "\n",
       "    .dataframe thead th {\n",
       "        text-align: right;\n",
       "    }\n",
       "</style>\n",
       "<table border=\"1\" class=\"dataframe\">\n",
       "  <thead>\n",
       "    <tr style=\"text-align: right;\">\n",
       "      <th></th>\n",
       "      <th>account_sid</th>\n",
       "      <th>optout_perc</th>\n",
       "      <th>dt_perc_predict</th>\n",
       "    </tr>\n",
       "  </thead>\n",
       "  <tbody>\n",
       "    <tr>\n",
       "      <th>66939</th>\n",
       "      <td>AC18908b6026b4c2aa0f2cec5b902eeb42</td>\n",
       "      <td>0.500000</td>\n",
       "      <td>0.333333</td>\n",
       "    </tr>\n",
       "    <tr>\n",
       "      <th>62492</th>\n",
       "      <td>ACdb015f66175dedea9482a206c48f93bb</td>\n",
       "      <td>0.009485</td>\n",
       "      <td>0.213205</td>\n",
       "    </tr>\n",
       "    <tr>\n",
       "      <th>5143</th>\n",
       "      <td>AC66de5f7f805cd71f8d1a6e9eccd3cd3c</td>\n",
       "      <td>0.193798</td>\n",
       "      <td>0.213205</td>\n",
       "    </tr>\n",
       "    <tr>\n",
       "      <th>74879</th>\n",
       "      <td>ACacec2274244b2eef23cc561dd07b4b36</td>\n",
       "      <td>0.113825</td>\n",
       "      <td>0.213205</td>\n",
       "    </tr>\n",
       "    <tr>\n",
       "      <th>44441</th>\n",
       "      <td>AC1066e4ff1d19d8e8df76296ff830a728</td>\n",
       "      <td>0.008130</td>\n",
       "      <td>0.213205</td>\n",
       "    </tr>\n",
       "    <tr>\n",
       "      <th>18971</th>\n",
       "      <td>AC825d2b2ae001795b902089a419a68519</td>\n",
       "      <td>0.000528</td>\n",
       "      <td>0.213205</td>\n",
       "    </tr>\n",
       "    <tr>\n",
       "      <th>46331</th>\n",
       "      <td>AC424a7681cea5aa1dfff52f7e46bc9cc6</td>\n",
       "      <td>0.004393</td>\n",
       "      <td>0.162613</td>\n",
       "    </tr>\n",
       "    <tr>\n",
       "      <th>16345</th>\n",
       "      <td>AC8e6777502743ca511802da27ce5bef25</td>\n",
       "      <td>0.005511</td>\n",
       "      <td>0.156398</td>\n",
       "    </tr>\n",
       "    <tr>\n",
       "      <th>47125</th>\n",
       "      <td>AC7a1fb152c1b0b49050f0ebcba8aa3dd1</td>\n",
       "      <td>0.053514</td>\n",
       "      <td>0.144394</td>\n",
       "    </tr>\n",
       "    <tr>\n",
       "      <th>37559</th>\n",
       "      <td>AC4b21c4d22f6919950d930e6dc4c9b8e7</td>\n",
       "      <td>0.069461</td>\n",
       "      <td>0.110480</td>\n",
       "    </tr>\n",
       "  </tbody>\n",
       "</table>\n",
       "</div>"
      ],
      "text/plain": [
       "                              account_sid  optout_perc  dt_perc_predict\n",
       "66939  AC18908b6026b4c2aa0f2cec5b902eeb42     0.500000         0.333333\n",
       "62492  ACdb015f66175dedea9482a206c48f93bb     0.009485         0.213205\n",
       "5143   AC66de5f7f805cd71f8d1a6e9eccd3cd3c     0.193798         0.213205\n",
       "74879  ACacec2274244b2eef23cc561dd07b4b36     0.113825         0.213205\n",
       "44441  AC1066e4ff1d19d8e8df76296ff830a728     0.008130         0.213205\n",
       "18971  AC825d2b2ae001795b902089a419a68519     0.000528         0.213205\n",
       "46331  AC424a7681cea5aa1dfff52f7e46bc9cc6     0.004393         0.162613\n",
       "16345  AC8e6777502743ca511802da27ce5bef25     0.005511         0.156398\n",
       "47125  AC7a1fb152c1b0b49050f0ebcba8aa3dd1     0.053514         0.144394\n",
       "37559  AC4b21c4d22f6919950d930e6dc4c9b8e7     0.069461         0.110480"
      ]
     },
     "execution_count": 35,
     "metadata": {},
     "output_type": "execute_result"
    }
   ],
   "source": [
    "#Compare predict and actual optout rates\n",
    "get_top('dt_perc_predict')"
   ]
  },
  {
   "cell_type": "markdown",
   "id": "e8799ea1",
   "metadata": {},
   "source": [
    "### Random Forest"
   ]
  },
  {
   "cell_type": "code",
   "execution_count": 42,
   "id": "5a314d0c",
   "metadata": {},
   "outputs": [
    {
     "data": {
      "image/png": "[encoded data removed]",
      "text/plain": [
       "<Figure size 1152x720 with 1 Axes>"
      ]
     },
     "metadata": {},
     "output_type": "display_data"
    }
   ],
   "source": [
    "index = np.linspace(1, 50, 50, endpoint=True)\n",
    "result = pd.DataFrame(index = index, columns=('train_results', 'test_results'))\n",
    "for max_depth in index:\n",
    "   dt = RandomForestRegressor(max_depth=max_depth)\n",
    "   dt.fit(x_train, y_train)\n",
    "   train_pred = dt.predict(x_train)\n",
    "   # Add rmse\n",
    "   result.at[max_depth,'train_results']=np.sqrt(metrics.mean_squared_error(y_train, train_pred))\n",
    "   test_pred = dt.predict(x_test)\n",
    "   result.at[max_depth,'test_results']=np.sqrt(metrics.mean_squared_error(y_test, test_pred))\n",
    "\n",
    "# Plotting RMSE for different tree depths\n",
    "line1, = plt.plot(index, result['train_results'], label='Train RMSE')\n",
    "line2, = plt.plot(index, result['test_results'], label='Test RMSE')\n",
    "plt.legend(handler_map={line1: HandlerLine2D(numpoints=2)})\n",
    "plt.title('RMSE for Different Max Depth')\n",
    "plt.ylabel('RMSE')\n",
    "plt.xlabel('Tree depth')\n",
    "plt.show()"
   ]
  },
  {
   "cell_type": "code",
   "execution_count": 43,
   "id": "2dfc7b28",
   "metadata": {},
   "outputs": [
    {
     "name": "stdout",
     "output_type": "stream",
     "text": [
      "Root Mean Squared Error w mean: 0.014416552295850734\n",
      "Optimal Max Depth: 17\n",
      "Smallest RMSE: 0.013301885356089189\n"
     ]
    }
   ],
   "source": [
    "result['test_results'] = pd.to_numeric(result['test_results'])\n",
    "print('Root Mean Squared Error w mean:', np.sqrt(metrics.mean_squared_error(y, y_bar)))\n",
    "optimal_dep = result['test_results'].idxmin()\n",
    "print(\"Optimal Max Depth: \",optimal_dep)\n",
    "print(\"Smallest RMSE: \",min(result['test_results']))"
   ]
  },
  {
   "cell_type": "code",
   "execution_count": 40,
   "id": "d9886d1e",
   "metadata": {},
   "outputs": [
    {
     "data": {
      "text/plain": [
       "RandomForestRegressor(max_depth=17, random_state=0)"
      ]
     },
     "execution_count": 40,
     "metadata": {},
     "output_type": "execute_result"
    }
   ],
   "source": [
    "#Tree Depth of 17 has the best result\n",
    "regr = RandomForestRegressor(max_depth=optimal_dep, random_state=0)\n",
    "regr.fit(x_train,y_train)"
   ]
  },
  {
   "cell_type": "code",
   "execution_count": 41,
   "id": "8033ff67",
   "metadata": {},
   "outputs": [
    {
     "data": {
      "text/plain": [
       "0.8294793498155462"
      ]
     },
     "execution_count": 41,
     "metadata": {},
     "output_type": "execute_result"
    }
   ],
   "source": [
    "regr.score(x_train,y_train)"
   ]
  },
  {
   "cell_type": "code",
   "execution_count": 42,
   "id": "65297be7",
   "metadata": {},
   "outputs": [
    {
     "data": {
      "text/plain": [
       "0.3296749727592321"
      ]
     },
     "execution_count": 42,
     "metadata": {},
     "output_type": "execute_result"
    }
   ],
   "source": [
    "regr.score(x_test,y_test)"
   ]
  },
  {
   "cell_type": "code",
   "execution_count": 43,
   "id": "0a0e3d11",
   "metadata": {},
   "outputs": [
    {
     "data": {
      "text/html": [
       "<div>\n",
       "<style scoped>\n",
       "    .dataframe tbody tr th:only-of-type {\n",
       "        vertical-align: middle;\n",
       "    }\n",
       "\n",
       "    .dataframe tbody tr th {\n",
       "        vertical-align: top;\n",
       "    }\n",
       "\n",
       "    .dataframe thead th {\n",
       "        text-align: right;\n",
       "    }\n",
       "</style>\n",
       "<table border=\"1\" class=\"dataframe\">\n",
       "  <thead>\n",
       "    <tr style=\"text-align: right;\">\n",
       "      <th></th>\n",
       "      <th>feature</th>\n",
       "      <th>importance</th>\n",
       "    </tr>\n",
       "  </thead>\n",
       "  <tbody>\n",
       "    <tr>\n",
       "      <th>3</th>\n",
       "      <td>unreachable_perc</td>\n",
       "      <td>2.291042e-01</td>\n",
       "    </tr>\n",
       "    <tr>\n",
       "      <th>10</th>\n",
       "      <td>fam_size</td>\n",
       "      <td>2.088504e-01</td>\n",
       "    </tr>\n",
       "    <tr>\n",
       "      <th>4</th>\n",
       "      <td>_30007_perc</td>\n",
       "      <td>1.884389e-01</td>\n",
       "    </tr>\n",
       "    <tr>\n",
       "      <th>0</th>\n",
       "      <td>age</td>\n",
       "      <td>1.456077e-01</td>\n",
       "    </tr>\n",
       "    <tr>\n",
       "      <th>6</th>\n",
       "      <td>_30008_perc</td>\n",
       "      <td>1.413660e-01</td>\n",
       "    </tr>\n",
       "    <tr>\n",
       "      <th>5</th>\n",
       "      <td>_21610_perc</td>\n",
       "      <td>5.106814e-02</td>\n",
       "    </tr>\n",
       "    <tr>\n",
       "      <th>1</th>\n",
       "      <td>isv</td>\n",
       "      <td>2.193192e-02</td>\n",
       "    </tr>\n",
       "    <tr>\n",
       "      <th>2</th>\n",
       "      <td>parent</td>\n",
       "      <td>1.126343e-02</td>\n",
       "    </tr>\n",
       "    <tr>\n",
       "      <th>8</th>\n",
       "      <td>fraud_perc</td>\n",
       "      <td>2.124954e-03</td>\n",
       "    </tr>\n",
       "    <tr>\n",
       "      <th>7</th>\n",
       "      <td>aup_perc</td>\n",
       "      <td>2.441203e-04</td>\n",
       "    </tr>\n",
       "    <tr>\n",
       "      <th>9</th>\n",
       "      <td>cannabis</td>\n",
       "      <td>2.386111e-07</td>\n",
       "    </tr>\n",
       "    <tr>\n",
       "      <th>11</th>\n",
       "      <td>default_name</td>\n",
       "      <td>0.000000e+00</td>\n",
       "    </tr>\n",
       "  </tbody>\n",
       "</table>\n",
       "</div>"
      ],
      "text/plain": [
       "             feature    importance\n",
       "3   unreachable_perc  2.291042e-01\n",
       "10          fam_size  2.088504e-01\n",
       "4        _30007_perc  1.884389e-01\n",
       "0                age  1.456077e-01\n",
       "6        _30008_perc  1.413660e-01\n",
       "5        _21610_perc  5.106814e-02\n",
       "1                isv  2.193192e-02\n",
       "2             parent  1.126343e-02\n",
       "8         fraud_perc  2.124954e-03\n",
       "7           aup_perc  2.441203e-04\n",
       "9           cannabis  2.386111e-07\n",
       "11      default_name  0.000000e+00"
      ]
     },
     "execution_count": 43,
     "metadata": {},
     "output_type": "execute_result"
    }
   ],
   "source": [
    "feature_importance = pd.DataFrame({\"feature\": x_test.columns,\n",
    "                                 \"importance\": regr.feature_importances_})\n",
    "feature_importance.sort_values(by='importance',ascending = False)"
   ]
  },
  {
   "cell_type": "code",
   "execution_count": 44,
   "id": "2c1d4658",
   "metadata": {},
   "outputs": [
    {
     "data": {
      "text/html": [
       "<div>\n",
       "<style scoped>\n",
       "    .dataframe tbody tr th:only-of-type {\n",
       "        vertical-align: middle;\n",
       "    }\n",
       "\n",
       "    .dataframe tbody tr th {\n",
       "        vertical-align: top;\n",
       "    }\n",
       "\n",
       "    .dataframe thead th {\n",
       "        text-align: right;\n",
       "    }\n",
       "</style>\n",
       "<table border=\"1\" class=\"dataframe\">\n",
       "  <thead>\n",
       "    <tr style=\"text-align: right;\">\n",
       "      <th></th>\n",
       "      <th>account_sid</th>\n",
       "      <th>optout_perc</th>\n",
       "      <th>rf_perc_predict</th>\n",
       "    </tr>\n",
       "  </thead>\n",
       "  <tbody>\n",
       "    <tr>\n",
       "      <th>48831</th>\n",
       "      <td>AC6047438797798f94e68720c01c15daed</td>\n",
       "      <td>0.334293</td>\n",
       "      <td>0.420553</td>\n",
       "    </tr>\n",
       "    <tr>\n",
       "      <th>66939</th>\n",
       "      <td>AC18908b6026b4c2aa0f2cec5b902eeb42</td>\n",
       "      <td>0.500000</td>\n",
       "      <td>0.200032</td>\n",
       "    </tr>\n",
       "    <tr>\n",
       "      <th>73042</th>\n",
       "      <td>AC45909a898b64f088a1f2042a57f183a0</td>\n",
       "      <td>0.030817</td>\n",
       "      <td>0.157276</td>\n",
       "    </tr>\n",
       "    <tr>\n",
       "      <th>24853</th>\n",
       "      <td>AC50209036fe9be99006c7f3036d4e12f1</td>\n",
       "      <td>0.001340</td>\n",
       "      <td>0.151128</td>\n",
       "    </tr>\n",
       "    <tr>\n",
       "      <th>77338</th>\n",
       "      <td>ACc8f6ce8009ac8c3949fcb22458544f36</td>\n",
       "      <td>0.223856</td>\n",
       "      <td>0.125632</td>\n",
       "    </tr>\n",
       "    <tr>\n",
       "      <th>30484</th>\n",
       "      <td>ACf405582861bfa1258a6aa34c1214ef46</td>\n",
       "      <td>0.045399</td>\n",
       "      <td>0.119040</td>\n",
       "    </tr>\n",
       "    <tr>\n",
       "      <th>74488</th>\n",
       "      <td>AC69d1d56fefd6f36a5e46bcd3fd7a676d</td>\n",
       "      <td>0.181490</td>\n",
       "      <td>0.117921</td>\n",
       "    </tr>\n",
       "    <tr>\n",
       "      <th>35428</th>\n",
       "      <td>ACe97fdff3a7021c9ef4baf3c01e2ff4b3</td>\n",
       "      <td>0.004857</td>\n",
       "      <td>0.117737</td>\n",
       "    </tr>\n",
       "    <tr>\n",
       "      <th>33267</th>\n",
       "      <td>AC1cd3fce6bb919df985d6320ff7ccb68e</td>\n",
       "      <td>0.025465</td>\n",
       "      <td>0.117239</td>\n",
       "    </tr>\n",
       "    <tr>\n",
       "      <th>48978</th>\n",
       "      <td>AC5e7e4ab31fa2ef267d6392c14171c7ed</td>\n",
       "      <td>0.035821</td>\n",
       "      <td>0.112881</td>\n",
       "    </tr>\n",
       "  </tbody>\n",
       "</table>\n",
       "</div>"
      ],
      "text/plain": [
       "                              account_sid  optout_perc  rf_perc_predict\n",
       "48831  AC6047438797798f94e68720c01c15daed     0.334293         0.420553\n",
       "66939  AC18908b6026b4c2aa0f2cec5b902eeb42     0.500000         0.200032\n",
       "73042  AC45909a898b64f088a1f2042a57f183a0     0.030817         0.157276\n",
       "24853  AC50209036fe9be99006c7f3036d4e12f1     0.001340         0.151128\n",
       "77338  ACc8f6ce8009ac8c3949fcb22458544f36     0.223856         0.125632\n",
       "30484  ACf405582861bfa1258a6aa34c1214ef46     0.045399         0.119040\n",
       "74488  AC69d1d56fefd6f36a5e46bcd3fd7a676d     0.181490         0.117921\n",
       "35428  ACe97fdff3a7021c9ef4baf3c01e2ff4b3     0.004857         0.117737\n",
       "33267  AC1cd3fce6bb919df985d6320ff7ccb68e     0.025465         0.117239\n",
       "48978  AC5e7e4ab31fa2ef267d6392c14171c7ed     0.035821         0.112881"
      ]
     },
     "execution_count": 44,
     "metadata": {},
     "output_type": "execute_result"
    }
   ],
   "source": [
    "get_top('rf_perc_predict')"
   ]
  },
  {
   "cell_type": "markdown",
   "id": "e524e316",
   "metadata": {},
   "source": [
    "### KNN "
   ]
  },
  {
   "cell_type": "code",
   "execution_count": 45,
   "id": "67b608f6",
   "metadata": {},
   "outputs": [
    {
     "data": {
      "image/png": "[encoded data removed]",
      "text/plain": [
       "<Figure size 1152x720 with 1 Axes>"
      ]
     },
     "metadata": {},
     "output_type": "display_data"
    }
   ],
   "source": [
    "index = np.linspace(1, 50, 50, endpoint=True)\n",
    "result = pd.DataFrame(index = index, columns=('train_results', 'test_results'))\n",
    "for n in index:\n",
    "   dt = KNeighborsRegressor(n_neighbors=int(n))\n",
    "   dt.fit(x_train, y_train)\n",
    "   train_pred = dt.predict(x_train)\n",
    "   # Add rmse\n",
    "   result.at[n,'train_results']=np.sqrt(metrics.mean_squared_error(y_train, train_pred))\n",
    "   test_pred = dt.predict(x_test)\n",
    "   result.at[n,'test_results']=np.sqrt(metrics.mean_squared_error(y_test, test_pred))\n",
    "\n",
    "# Plotting RMSE for different tree depths\n",
    "line1, = plt.plot(index, result['train_results'], label='Train RMSE')\n",
    "line2, = plt.plot(index, result['test_results'], label='Test RMSE')\n",
    "plt.legend(handler_map={line1: HandlerLine2D(numpoints=2)})\n",
    "plt.title('RMSE for Different Number of Neighbors')\n",
    "plt.ylabel('RMSE')\n",
    "plt.xlabel('Number of Neighbors')\n",
    "plt.show()"
   ]
  },
  {
   "cell_type": "code",
   "execution_count": 46,
   "id": "5d6f2f3c",
   "metadata": {},
   "outputs": [
    {
     "name": "stdout",
     "output_type": "stream",
     "text": [
      "Root Mean Squared Error w mean: 0.014416552295850734\n",
      "Optimal Max Depth: 23\n",
      "Smallest RMSE: 0.01327379352054185\n"
     ]
    }
   ],
   "source": [
    "result['test_results'] = pd.to_numeric(result['test_results'])\n",
    "print('Root Mean Squared Error w mean:', np.sqrt(metrics.mean_squared_error(y, y_bar)))\n",
    "optimal_dep = result['test_results'].idxmin()\n",
    "print(\"Optimal Max Depth: \",optimal_dep)\n",
    "print(\"Smallest RMSE: \",min(result['test_results']))"
   ]
  },
  {
   "cell_type": "code",
   "execution_count": 47,
   "id": "24dc8bd9",
   "metadata": {},
   "outputs": [
    {
     "data": {
      "text/plain": [
       "KNeighborsRegressor(n_neighbors=23)"
      ]
     },
     "execution_count": 47,
     "metadata": {},
     "output_type": "execute_result"
    }
   ],
   "source": [
    "#k of 23 has the best result\n",
    "regr = KNeighborsRegressor(n_neighbors=optimal_dep)\n",
    "regr.fit(x_train,y_train)"
   ]
  },
  {
   "cell_type": "code",
   "execution_count": 48,
   "id": "a03459cb",
   "metadata": {},
   "outputs": [
    {
     "data": {
      "text/plain": [
       "0.31784392294224584"
      ]
     },
     "execution_count": 48,
     "metadata": {},
     "output_type": "execute_result"
    }
   ],
   "source": [
    "regr.score(x_train,y_train)"
   ]
  },
  {
   "cell_type": "code",
   "execution_count": 49,
   "id": "60a9ffdd",
   "metadata": {},
   "outputs": [
    {
     "data": {
      "text/plain": [
       "0.29038201662729135"
      ]
     },
     "execution_count": 49,
     "metadata": {},
     "output_type": "execute_result"
    }
   ],
   "source": [
    "regr.score(x_test,y_test)"
   ]
  },
  {
   "cell_type": "code",
   "execution_count": 50,
   "id": "0dfed3a7",
   "metadata": {},
   "outputs": [
    {
     "data": {
      "text/html": [
       "<div>\n",
       "<style scoped>\n",
       "    .dataframe tbody tr th:only-of-type {\n",
       "        vertical-align: middle;\n",
       "    }\n",
       "\n",
       "    .dataframe tbody tr th {\n",
       "        vertical-align: top;\n",
       "    }\n",
       "\n",
       "    .dataframe thead th {\n",
       "        text-align: right;\n",
       "    }\n",
       "</style>\n",
       "<table border=\"1\" class=\"dataframe\">\n",
       "  <thead>\n",
       "    <tr style=\"text-align: right;\">\n",
       "      <th></th>\n",
       "      <th>feature</th>\n",
       "      <th>importance</th>\n",
       "    </tr>\n",
       "  </thead>\n",
       "  <tbody>\n",
       "    <tr>\n",
       "      <th>10</th>\n",
       "      <td>fam_size</td>\n",
       "      <td>1.123277e-04</td>\n",
       "    </tr>\n",
       "    <tr>\n",
       "      <th>0</th>\n",
       "      <td>age</td>\n",
       "      <td>3.707796e-05</td>\n",
       "    </tr>\n",
       "    <tr>\n",
       "      <th>3</th>\n",
       "      <td>unreachable_perc</td>\n",
       "      <td>1.903639e-05</td>\n",
       "    </tr>\n",
       "    <tr>\n",
       "      <th>4</th>\n",
       "      <td>_30007_perc</td>\n",
       "      <td>5.253265e-06</td>\n",
       "    </tr>\n",
       "    <tr>\n",
       "      <th>5</th>\n",
       "      <td>_21610_perc</td>\n",
       "      <td>2.950345e-06</td>\n",
       "    </tr>\n",
       "    <tr>\n",
       "      <th>6</th>\n",
       "      <td>_30008_perc</td>\n",
       "      <td>1.247814e-06</td>\n",
       "    </tr>\n",
       "    <tr>\n",
       "      <th>1</th>\n",
       "      <td>isv</td>\n",
       "      <td>2.317493e-07</td>\n",
       "    </tr>\n",
       "    <tr>\n",
       "      <th>8</th>\n",
       "      <td>fraud_perc</td>\n",
       "      <td>4.694653e-10</td>\n",
       "    </tr>\n",
       "    <tr>\n",
       "      <th>9</th>\n",
       "      <td>cannabis</td>\n",
       "      <td>9.593527e-14</td>\n",
       "    </tr>\n",
       "    <tr>\n",
       "      <th>11</th>\n",
       "      <td>default_name</td>\n",
       "      <td>0.000000e+00</td>\n",
       "    </tr>\n",
       "    <tr>\n",
       "      <th>7</th>\n",
       "      <td>aup_perc</td>\n",
       "      <td>-3.213151e-09</td>\n",
       "    </tr>\n",
       "    <tr>\n",
       "      <th>2</th>\n",
       "      <td>parent</td>\n",
       "      <td>-1.661727e-07</td>\n",
       "    </tr>\n",
       "  </tbody>\n",
       "</table>\n",
       "</div>"
      ],
      "text/plain": [
       "             feature    importance\n",
       "10          fam_size  1.123277e-04\n",
       "0                age  3.707796e-05\n",
       "3   unreachable_perc  1.903639e-05\n",
       "4        _30007_perc  5.253265e-06\n",
       "5        _21610_perc  2.950345e-06\n",
       "6        _30008_perc  1.247814e-06\n",
       "1                isv  2.317493e-07\n",
       "8         fraud_perc  4.694653e-10\n",
       "9           cannabis  9.593527e-14\n",
       "11      default_name  0.000000e+00\n",
       "7           aup_perc -3.213151e-09\n",
       "2             parent -1.661727e-07"
      ]
     },
     "execution_count": 50,
     "metadata": {},
     "output_type": "execute_result"
    }
   ],
   "source": [
    "results = permutation_importance(regr, X, y, scoring='neg_mean_squared_error')\n",
    "feature_importance = pd.DataFrame({\"feature\": x_test.columns,\n",
    "                                 \"importance\": results.importances_mean})\n",
    "feature_importance.sort_values(by='importance',ascending = False)"
   ]
  },
  {
   "cell_type": "code",
   "execution_count": 52,
   "id": "5cd55c54",
   "metadata": {},
   "outputs": [
    {
     "data": {
      "text/html": [
       "<div>\n",
       "<style scoped>\n",
       "    .dataframe tbody tr th:only-of-type {\n",
       "        vertical-align: middle;\n",
       "    }\n",
       "\n",
       "    .dataframe tbody tr th {\n",
       "        vertical-align: top;\n",
       "    }\n",
       "\n",
       "    .dataframe thead th {\n",
       "        text-align: right;\n",
       "    }\n",
       "</style>\n",
       "<table border=\"1\" class=\"dataframe\">\n",
       "  <thead>\n",
       "    <tr style=\"text-align: right;\">\n",
       "      <th></th>\n",
       "      <th>account_sid</th>\n",
       "      <th>optout_perc</th>\n",
       "      <th>knn_perc_predict</th>\n",
       "    </tr>\n",
       "  </thead>\n",
       "  <tbody>\n",
       "    <tr>\n",
       "      <th>60115</th>\n",
       "      <td>ACa17716df17edd658cdab95809abeb17e</td>\n",
       "      <td>0.017417</td>\n",
       "      <td>0.102901</td>\n",
       "    </tr>\n",
       "    <tr>\n",
       "      <th>67180</th>\n",
       "      <td>AC83ec10100f584c672f53e271a30438de</td>\n",
       "      <td>0.129605</td>\n",
       "      <td>0.099751</td>\n",
       "    </tr>\n",
       "    <tr>\n",
       "      <th>67098</th>\n",
       "      <td>AC3a6b1f137a6459ae5e48601b8c2a822f</td>\n",
       "      <td>0.006450</td>\n",
       "      <td>0.095484</td>\n",
       "    </tr>\n",
       "    <tr>\n",
       "      <th>46729</th>\n",
       "      <td>ACfce3c73e8e035dcb2b1031a91f3d7a39</td>\n",
       "      <td>0.082662</td>\n",
       "      <td>0.094454</td>\n",
       "    </tr>\n",
       "    <tr>\n",
       "      <th>16865</th>\n",
       "      <td>AC3f72846ee6f0a0f4c60eb2adeb3a9c58</td>\n",
       "      <td>0.122901</td>\n",
       "      <td>0.092354</td>\n",
       "    </tr>\n",
       "    <tr>\n",
       "      <th>54004</th>\n",
       "      <td>AC1aca0114016c3dccfd57850828491915</td>\n",
       "      <td>0.166959</td>\n",
       "      <td>0.092011</td>\n",
       "    </tr>\n",
       "    <tr>\n",
       "      <th>71970</th>\n",
       "      <td>AC4f96bb6737298feb35248da4f9ebb619</td>\n",
       "      <td>0.104261</td>\n",
       "      <td>0.090259</td>\n",
       "    </tr>\n",
       "    <tr>\n",
       "      <th>4304</th>\n",
       "      <td>ACf8ea777647f602198dbe6f240b749f01</td>\n",
       "      <td>0.020999</td>\n",
       "      <td>0.090009</td>\n",
       "    </tr>\n",
       "    <tr>\n",
       "      <th>23263</th>\n",
       "      <td>AC87ab6fe336e636f056d00276793ee7c6</td>\n",
       "      <td>0.188095</td>\n",
       "      <td>0.090009</td>\n",
       "    </tr>\n",
       "    <tr>\n",
       "      <th>19378</th>\n",
       "      <td>ACa1b776475e5b8424e1207716ae937f9a</td>\n",
       "      <td>0.018166</td>\n",
       "      <td>0.088987</td>\n",
       "    </tr>\n",
       "  </tbody>\n",
       "</table>\n",
       "</div>"
      ],
      "text/plain": [
       "                              account_sid  optout_perc  knn_perc_predict\n",
       "60115  ACa17716df17edd658cdab95809abeb17e     0.017417          0.102901\n",
       "67180  AC83ec10100f584c672f53e271a30438de     0.129605          0.099751\n",
       "67098  AC3a6b1f137a6459ae5e48601b8c2a822f     0.006450          0.095484\n",
       "46729  ACfce3c73e8e035dcb2b1031a91f3d7a39     0.082662          0.094454\n",
       "16865  AC3f72846ee6f0a0f4c60eb2adeb3a9c58     0.122901          0.092354\n",
       "54004  AC1aca0114016c3dccfd57850828491915     0.166959          0.092011\n",
       "71970  AC4f96bb6737298feb35248da4f9ebb619     0.104261          0.090259\n",
       "4304   ACf8ea777647f602198dbe6f240b749f01     0.020999          0.090009\n",
       "23263  AC87ab6fe336e636f056d00276793ee7c6     0.188095          0.090009\n",
       "19378  ACa1b776475e5b8424e1207716ae937f9a     0.018166          0.088987"
      ]
     },
     "execution_count": 52,
     "metadata": {},
     "output_type": "execute_result"
    }
   ],
   "source": [
    "get_top('knn_perc_predict')"
   ]
  },
  {
   "cell_type": "markdown",
   "id": "c5da26a1",
   "metadata": {},
   "source": [
    "### Neural Network"
   ]
  },
  {
   "cell_type": "code",
   "execution_count": 79,
   "id": "9d702a59",
   "metadata": {},
   "outputs": [
    {
     "name": "stdout",
     "output_type": "stream",
     "text": [
      "Root Mean Squared Error w mean: 0.014416552295850739\n"
     ]
    },
    {
     "data": {
      "text/plain": [
       "0.014242267620910094"
      ]
     },
     "execution_count": 79,
     "metadata": {},
     "output_type": "execute_result"
    }
   ],
   "source": [
    "regr = MLPRegressor(solver='adam',random_state=0, activation='logistic',max_iter=5000).fit(x_train, y_train)\n",
    "pred = regr.predict(X)\n",
    "print('Root Mean Squared Error w mean:', np.sqrt(metrics.mean_squared_error(y, y_bar)))\n",
    "np.sqrt(metrics.mean_squared_error(y, pred)"
   ]
  },
  {
   "cell_type": "code",
   "execution_count": 90,
   "id": "68ddfdb9",
   "metadata": {},
   "outputs": [
    {
     "data": {
      "text/plain": [
       "(0.020338567966365507,\n",
       " {'activation': 'logistic', 'max_iter': 300, 'solver': 'adam'})"
      ]
     },
     "execution_count": 90,
     "metadata": {},
     "output_type": "execute_result"
    }
   ],
   "source": [
    "#Hyperparameter tuning\n",
    "parameters = {\n",
    "    'activation':('logistic','tanh'),\n",
    "    'solver':('adam','lbfgs','sgd'),\n",
    "    'max_iter':(100,200,300,400,500)\n",
    "}\n",
    "regr = GridSearchCV(MLPRegressor(),parameters,cv=5)\n",
    "regr.fit(x_train, y_train)\n",
    "regr.best_score_,regr.best_params_"
   ]
  },
  {
   "cell_type": "code",
   "execution_count": 123,
   "id": "690e3f68",
   "metadata": {},
   "outputs": [
    {
     "name": "stdout",
     "output_type": "stream",
     "text": [
      "Root Mean Squared Error w mean: 0.014416552295850739\n"
     ]
    },
    {
     "data": {
      "text/plain": [
       "0.014242267620910094"
      ]
     },
     "execution_count": 123,
     "metadata": {},
     "output_type": "execute_result"
    }
   ],
   "source": [
    "#Re-train model with the best parameters\n",
    "regr = MLPRegressor(solver='adam',random_state=0, activation='logistic',max_iter=300).fit(x_train, y_train)\n",
    "print('Root Mean Squared Error w mean:', np.sqrt(metrics.mean_squared_error(y, y_bar)))\n",
    "np.sqrt(metrics.mean_squared_error(y, pred)"
   ]
  },
  {
   "cell_type": "code",
   "execution_count": 124,
   "id": "022c6925",
   "metadata": {},
   "outputs": [
    {
     "data": {
      "text/plain": [
       "0.03397545120342049"
      ]
     },
     "execution_count": 124,
     "metadata": {},
     "output_type": "execute_result"
    }
   ],
   "source": [
    "regr.score(x_train,y_train)"
   ]
  },
  {
   "cell_type": "code",
   "execution_count": 125,
   "id": "a1c78503",
   "metadata": {},
   "outputs": [
    {
     "data": {
      "text/plain": [
       "0.03378491770755654"
      ]
     },
     "execution_count": 125,
     "metadata": {},
     "output_type": "execute_result"
    }
   ],
   "source": [
    "regr.score(x_test,y_test)"
   ]
  },
  {
   "cell_type": "code",
   "execution_count": 122,
   "id": "54dbc249",
   "metadata": {},
   "outputs": [
    {
     "data": {
      "text/html": [
       "<div>\n",
       "<style scoped>\n",
       "    .dataframe tbody tr th:only-of-type {\n",
       "        vertical-align: middle;\n",
       "    }\n",
       "\n",
       "    .dataframe tbody tr th {\n",
       "        vertical-align: top;\n",
       "    }\n",
       "\n",
       "    .dataframe thead th {\n",
       "        text-align: right;\n",
       "    }\n",
       "</style>\n",
       "<table border=\"1\" class=\"dataframe\">\n",
       "  <thead>\n",
       "    <tr style=\"text-align: right;\">\n",
       "      <th></th>\n",
       "      <th>account_sid</th>\n",
       "      <th>optout_perc</th>\n",
       "      <th>neural_predict</th>\n",
       "    </tr>\n",
       "  </thead>\n",
       "  <tbody>\n",
       "    <tr>\n",
       "      <th>55385</th>\n",
       "      <td>ACef92e31dbda19ffff56ff0bd0f0f0313</td>\n",
       "      <td>0.000000</td>\n",
       "      <td>0.071833</td>\n",
       "    </tr>\n",
       "    <tr>\n",
       "      <th>40933</th>\n",
       "      <td>ACfbe4b2f4964efb0ec8d49242bb8f9376</td>\n",
       "      <td>0.003384</td>\n",
       "      <td>0.069499</td>\n",
       "    </tr>\n",
       "    <tr>\n",
       "      <th>8596</th>\n",
       "      <td>ACf955bbca3cf6abd0ccf3e9e7c0f27cca</td>\n",
       "      <td>0.000000</td>\n",
       "      <td>0.066584</td>\n",
       "    </tr>\n",
       "    <tr>\n",
       "      <th>59444</th>\n",
       "      <td>ACc2e484f97a8f2d1233810034aa458cfb</td>\n",
       "      <td>0.017391</td>\n",
       "      <td>0.062182</td>\n",
       "    </tr>\n",
       "    <tr>\n",
       "      <th>48774</th>\n",
       "      <td>ACd95f6370d54ca61aef7857529da209b8</td>\n",
       "      <td>0.005181</td>\n",
       "      <td>0.059292</td>\n",
       "    </tr>\n",
       "    <tr>\n",
       "      <th>17617</th>\n",
       "      <td>AC3c9f5a93f56a851944d1e6c1df0216a1</td>\n",
       "      <td>0.028947</td>\n",
       "      <td>0.058275</td>\n",
       "    </tr>\n",
       "    <tr>\n",
       "      <th>55497</th>\n",
       "      <td>AC45ad864f958800d743b8e3b92ee50ac8</td>\n",
       "      <td>0.000000</td>\n",
       "      <td>0.058086</td>\n",
       "    </tr>\n",
       "    <tr>\n",
       "      <th>62942</th>\n",
       "      <td>AC79cea1f9cdae464aeeffc555111fc595</td>\n",
       "      <td>0.032609</td>\n",
       "      <td>0.058010</td>\n",
       "    </tr>\n",
       "    <tr>\n",
       "      <th>67407</th>\n",
       "      <td>AC73cb194cee9dd7e5c92619ff2ce07790</td>\n",
       "      <td>0.005900</td>\n",
       "      <td>0.057058</td>\n",
       "    </tr>\n",
       "    <tr>\n",
       "      <th>39069</th>\n",
       "      <td>AC5aa907b62eb9d8fe73bff75b5cd0b535</td>\n",
       "      <td>0.018375</td>\n",
       "      <td>0.055899</td>\n",
       "    </tr>\n",
       "  </tbody>\n",
       "</table>\n",
       "</div>"
      ],
      "text/plain": [
       "                              account_sid  optout_perc  neural_predict\n",
       "55385  ACef92e31dbda19ffff56ff0bd0f0f0313     0.000000        0.071833\n",
       "40933  ACfbe4b2f4964efb0ec8d49242bb8f9376     0.003384        0.069499\n",
       "8596   ACf955bbca3cf6abd0ccf3e9e7c0f27cca     0.000000        0.066584\n",
       "59444  ACc2e484f97a8f2d1233810034aa458cfb     0.017391        0.062182\n",
       "48774  ACd95f6370d54ca61aef7857529da209b8     0.005181        0.059292\n",
       "17617  AC3c9f5a93f56a851944d1e6c1df0216a1     0.028947        0.058275\n",
       "55497  AC45ad864f958800d743b8e3b92ee50ac8     0.000000        0.058086\n",
       "62942  AC79cea1f9cdae464aeeffc555111fc595     0.032609        0.058010\n",
       "67407  AC73cb194cee9dd7e5c92619ff2ce07790     0.005900        0.057058\n",
       "39069  AC5aa907b62eb9d8fe73bff75b5cd0b535     0.018375        0.055899"
      ]
     },
     "execution_count": 122,
     "metadata": {},
     "output_type": "execute_result"
    }
   ],
   "source": [
    "get_top('neural_predict')"
   ]
  },
  {
   "cell_type": "markdown",
   "id": "9ac37d1b",
   "metadata": {},
   "source": [
    "### Bagging"
   ]
  },
  {
   "cell_type": "code",
   "execution_count": 96,
   "id": "5266292f",
   "metadata": {},
   "outputs": [
    {
     "name": "stdout",
     "output_type": "stream",
     "text": [
      "Root Mean Squared Error w mean: 0.014416552295850739\n"
     ]
    },
    {
     "data": {
      "text/plain": [
       "0.01191722986247133"
      ]
     },
     "execution_count": 96,
     "metadata": {},
     "output_type": "execute_result"
    }
   ],
   "source": [
    "regr = BaggingRegressor(base_estimator=SVR(kernel='sigmoid'),n_estimators=30, random_state=0).fit(x_train, y_train)\n",
    "pred = regr.predict(X)\n",
    "print('Root Mean Squared Error w mean:', np.sqrt(metrics.mean_squared_error(y, y_bar)))\n",
    "np.sqrt(metrics.mean_squared_error(y, pred))"
   ]
  },
  {
   "cell_type": "code",
   "execution_count": 99,
   "id": "711606dc",
   "metadata": {},
   "outputs": [
    {
     "data": {
      "text/plain": [
       "(0.2924442343957102, {'n_estimators': 400})"
      ]
     },
     "execution_count": 99,
     "metadata": {},
     "output_type": "execute_result"
    }
   ],
   "source": [
    "#Hyperparameter tuning\n",
    "parameters = {\n",
    "#     'base_estimator':('SVR(kernel='sigmoid')')\n",
    "    'n_estimators':(20,30,40,50,60,70,100,200,300,400,500),\n",
    "}\n",
    "regr = GridSearchCV(BaggingRegressor(),parameters,cv=5)\n",
    "regr.fit(x_train, y_train)\n",
    "regr.best_score_,regr.best_params_"
   ]
  },
  {
   "cell_type": "code",
   "execution_count": 112,
   "id": "73ea118f",
   "metadata": {},
   "outputs": [
    {
     "name": "stdout",
     "output_type": "stream",
     "text": [
      "Root Mean Squared Error w mean: 0.014416552295850739\n"
     ]
    },
    {
     "data": {
      "text/plain": [
       "0.011735256824795929"
      ]
     },
     "execution_count": 112,
     "metadata": {},
     "output_type": "execute_result"
    }
   ],
   "source": [
    "#Re-train model with the best parameters\n",
    "regr = BaggingRegressor(n_estimators=400, random_state=0).fit(x_train, y_train)\n",
    "pred = regr.predict(X)\n",
    "print('Root Mean Squared Error w mean:', np.sqrt(metrics.mean_squared_error(y, y_bar)))\n",
    "np.sqrt(metrics.mean_squared_error(y, pred)) #81%"
   ]
  },
  {
   "cell_type": "code",
   "execution_count": 114,
   "id": "f3146118",
   "metadata": {},
   "outputs": [
    {
     "data": {
      "text/html": [
       "<div>\n",
       "<style scoped>\n",
       "    .dataframe tbody tr th:only-of-type {\n",
       "        vertical-align: middle;\n",
       "    }\n",
       "\n",
       "    .dataframe tbody tr th {\n",
       "        vertical-align: top;\n",
       "    }\n",
       "\n",
       "    .dataframe thead th {\n",
       "        text-align: right;\n",
       "    }\n",
       "</style>\n",
       "<table border=\"1\" class=\"dataframe\">\n",
       "  <thead>\n",
       "    <tr style=\"text-align: right;\">\n",
       "      <th></th>\n",
       "      <th>feature</th>\n",
       "      <th>importance</th>\n",
       "    </tr>\n",
       "  </thead>\n",
       "  <tbody>\n",
       "    <tr>\n",
       "      <th>10</th>\n",
       "      <td>fam_size</td>\n",
       "      <td>0.450305</td>\n",
       "    </tr>\n",
       "    <tr>\n",
       "      <th>4</th>\n",
       "      <td>_30007_perc</td>\n",
       "      <td>0.146059</td>\n",
       "    </tr>\n",
       "    <tr>\n",
       "      <th>5</th>\n",
       "      <td>_21610_perc</td>\n",
       "      <td>0.133741</td>\n",
       "    </tr>\n",
       "    <tr>\n",
       "      <th>0</th>\n",
       "      <td>age</td>\n",
       "      <td>0.111622</td>\n",
       "    </tr>\n",
       "    <tr>\n",
       "      <th>3</th>\n",
       "      <td>unreachable_perc</td>\n",
       "      <td>0.110553</td>\n",
       "    </tr>\n",
       "    <tr>\n",
       "      <th>6</th>\n",
       "      <td>_30008_perc</td>\n",
       "      <td>0.035651</td>\n",
       "    </tr>\n",
       "    <tr>\n",
       "      <th>1</th>\n",
       "      <td>isv</td>\n",
       "      <td>0.009668</td>\n",
       "    </tr>\n",
       "    <tr>\n",
       "      <th>2</th>\n",
       "      <td>parent</td>\n",
       "      <td>0.001814</td>\n",
       "    </tr>\n",
       "    <tr>\n",
       "      <th>8</th>\n",
       "      <td>fraud_perc</td>\n",
       "      <td>0.000505</td>\n",
       "    </tr>\n",
       "    <tr>\n",
       "      <th>7</th>\n",
       "      <td>aup_perc</td>\n",
       "      <td>0.000065</td>\n",
       "    </tr>\n",
       "    <tr>\n",
       "      <th>11</th>\n",
       "      <td>default_name</td>\n",
       "      <td>0.000017</td>\n",
       "    </tr>\n",
       "    <tr>\n",
       "      <th>9</th>\n",
       "      <td>cannabis</td>\n",
       "      <td>0.000000</td>\n",
       "    </tr>\n",
       "  </tbody>\n",
       "</table>\n",
       "</div>"
      ],
      "text/plain": [
       "             feature  importance\n",
       "10          fam_size    0.450305\n",
       "4        _30007_perc    0.146059\n",
       "5        _21610_perc    0.133741\n",
       "0                age    0.111622\n",
       "3   unreachable_perc    0.110553\n",
       "6        _30008_perc    0.035651\n",
       "1                isv    0.009668\n",
       "2             parent    0.001814\n",
       "8         fraud_perc    0.000505\n",
       "7           aup_perc    0.000065\n",
       "11      default_name    0.000017\n",
       "9           cannabis    0.000000"
      ]
     },
     "execution_count": 114,
     "metadata": {},
     "output_type": "execute_result"
    }
   ],
   "source": [
    "feature_importances = np.mean([\n",
    "    tree.feature_importances_ for tree in regr.estimators_\n",
    "], axis=0)\n",
    "feature_importance.sort_values(by='importance',ascending = False)"
   ]
  },
  {
   "cell_type": "code",
   "execution_count": 115,
   "id": "1d0116a7",
   "metadata": {},
   "outputs": [
    {
     "data": {
      "text/html": [
       "<div>\n",
       "<style scoped>\n",
       "    .dataframe tbody tr th:only-of-type {\n",
       "        vertical-align: middle;\n",
       "    }\n",
       "\n",
       "    .dataframe tbody tr th {\n",
       "        vertical-align: top;\n",
       "    }\n",
       "\n",
       "    .dataframe thead th {\n",
       "        text-align: right;\n",
       "    }\n",
       "</style>\n",
       "<table border=\"1\" class=\"dataframe\">\n",
       "  <thead>\n",
       "    <tr style=\"text-align: right;\">\n",
       "      <th></th>\n",
       "      <th>account_sid</th>\n",
       "      <th>optout_perc</th>\n",
       "      <th>bagging_predict</th>\n",
       "    </tr>\n",
       "  </thead>\n",
       "  <tbody>\n",
       "    <tr>\n",
       "      <th>55385</th>\n",
       "      <td>ACef92e31dbda19ffff56ff0bd0f0f0313</td>\n",
       "      <td>0.000000</td>\n",
       "      <td>0.071833</td>\n",
       "    </tr>\n",
       "    <tr>\n",
       "      <th>40933</th>\n",
       "      <td>ACfbe4b2f4964efb0ec8d49242bb8f9376</td>\n",
       "      <td>0.003384</td>\n",
       "      <td>0.069499</td>\n",
       "    </tr>\n",
       "    <tr>\n",
       "      <th>8596</th>\n",
       "      <td>ACf955bbca3cf6abd0ccf3e9e7c0f27cca</td>\n",
       "      <td>0.000000</td>\n",
       "      <td>0.066584</td>\n",
       "    </tr>\n",
       "    <tr>\n",
       "      <th>59444</th>\n",
       "      <td>ACc2e484f97a8f2d1233810034aa458cfb</td>\n",
       "      <td>0.017391</td>\n",
       "      <td>0.062182</td>\n",
       "    </tr>\n",
       "    <tr>\n",
       "      <th>48774</th>\n",
       "      <td>ACd95f6370d54ca61aef7857529da209b8</td>\n",
       "      <td>0.005181</td>\n",
       "      <td>0.059292</td>\n",
       "    </tr>\n",
       "    <tr>\n",
       "      <th>17617</th>\n",
       "      <td>AC3c9f5a93f56a851944d1e6c1df0216a1</td>\n",
       "      <td>0.028947</td>\n",
       "      <td>0.058275</td>\n",
       "    </tr>\n",
       "    <tr>\n",
       "      <th>55497</th>\n",
       "      <td>AC45ad864f958800d743b8e3b92ee50ac8</td>\n",
       "      <td>0.000000</td>\n",
       "      <td>0.058086</td>\n",
       "    </tr>\n",
       "    <tr>\n",
       "      <th>62942</th>\n",
       "      <td>AC79cea1f9cdae464aeeffc555111fc595</td>\n",
       "      <td>0.032609</td>\n",
       "      <td>0.058010</td>\n",
       "    </tr>\n",
       "    <tr>\n",
       "      <th>67407</th>\n",
       "      <td>AC73cb194cee9dd7e5c92619ff2ce07790</td>\n",
       "      <td>0.005900</td>\n",
       "      <td>0.057058</td>\n",
       "    </tr>\n",
       "    <tr>\n",
       "      <th>39069</th>\n",
       "      <td>AC5aa907b62eb9d8fe73bff75b5cd0b535</td>\n",
       "      <td>0.018375</td>\n",
       "      <td>0.055899</td>\n",
       "    </tr>\n",
       "  </tbody>\n",
       "</table>\n",
       "</div>"
      ],
      "text/plain": [
       "                              account_sid  optout_perc  bagging_predict\n",
       "55385  ACef92e31dbda19ffff56ff0bd0f0f0313     0.000000         0.071833\n",
       "40933  ACfbe4b2f4964efb0ec8d49242bb8f9376     0.003384         0.069499\n",
       "8596   ACf955bbca3cf6abd0ccf3e9e7c0f27cca     0.000000         0.066584\n",
       "59444  ACc2e484f97a8f2d1233810034aa458cfb     0.017391         0.062182\n",
       "48774  ACd95f6370d54ca61aef7857529da209b8     0.005181         0.059292\n",
       "17617  AC3c9f5a93f56a851944d1e6c1df0216a1     0.028947         0.058275\n",
       "55497  AC45ad864f958800d743b8e3b92ee50ac8     0.000000         0.058086\n",
       "62942  AC79cea1f9cdae464aeeffc555111fc595     0.032609         0.058010\n",
       "67407  AC73cb194cee9dd7e5c92619ff2ce07790     0.005900         0.057058\n",
       "39069  AC5aa907b62eb9d8fe73bff75b5cd0b535     0.018375         0.055899"
      ]
     },
     "execution_count": 115,
     "metadata": {},
     "output_type": "execute_result"
    }
   ],
   "source": [
    "get_top('bagging_predict')"
   ]
  },
  {
   "cell_type": "markdown",
   "id": "368b0158",
   "metadata": {},
   "source": [
    "### Boosting"
   ]
  },
  {
   "cell_type": "code",
   "execution_count": 106,
   "id": "6bd189ec",
   "metadata": {},
   "outputs": [
    {
     "name": "stdout",
     "output_type": "stream",
     "text": [
      "Root Mean Squared Error w mean: 0.014416552295850739\n"
     ]
    },
    {
     "data": {
      "text/plain": [
       "0.012454508586276088"
      ]
     },
     "execution_count": 106,
     "metadata": {},
     "output_type": "execute_result"
    }
   ],
   "source": [
    "reg = GradientBoostingRegressor(loss='huber',n_estimators=1000,random_state=0)\n",
    "reg.fit(x_train, y_train)\n",
    "predict = reg.predict(X)\n",
    "print('Root Mean Squared Error w mean:', np.sqrt(metrics.mean_squared_error(y, y_bar)))\n",
    "np.sqrt(metrics.mean_squared_error(y, predict))"
   ]
  },
  {
   "cell_type": "code",
   "execution_count": 107,
   "id": "9fb7b65e",
   "metadata": {},
   "outputs": [
    {
     "data": {
      "text/plain": [
       "(0.20754847686134886, {'loss': 'huber', 'n_estimators': 300})"
      ]
     },
     "execution_count": 107,
     "metadata": {},
     "output_type": "execute_result"
    }
   ],
   "source": [
    "#Hyperparameter tuning\n",
    "parameters = {\n",
    "    'loss':('huber','lad'),\n",
    "    'n_estimators':(30,40,50,60,70,100,200,300),\n",
    "}\n",
    "regr = GridSearchCV(GradientBoostingRegressor(),parameters,cv=5)\n",
    "regr.fit(x_train, y_train)\n",
    "regr.best_score_,regr.best_params_"
   ]
  },
  {
   "cell_type": "code",
   "execution_count": 116,
   "id": "e57df97a",
   "metadata": {},
   "outputs": [
    {
     "name": "stdout",
     "output_type": "stream",
     "text": [
      "Root Mean Squared Error w mean: 0.014416552295850739\n"
     ]
    },
    {
     "data": {
      "text/plain": [
       "0.012751244839259063"
      ]
     },
     "execution_count": 116,
     "metadata": {},
     "output_type": "execute_result"
    }
   ],
   "source": [
    "#Re-train model with the best parameters\n",
    "reg = GradientBoostingRegressor(loss='huber',n_estimators=300,random_state=0)\n",
    "reg.fit(x_train, y_train)\n",
    "predict = reg.predict(X)\n",
    "print('Root Mean Squared Error w mean:', np.sqrt(metrics.mean_squared_error(y, y_bar)))\n",
    "np.sqrt(metrics.mean_squared_error(y, predict))"
   ]
  },
  {
   "cell_type": "code",
   "execution_count": 109,
   "id": "9677da83",
   "metadata": {},
   "outputs": [
    {
     "data": {
      "text/html": [
       "<div>\n",
       "<style scoped>\n",
       "    .dataframe tbody tr th:only-of-type {\n",
       "        vertical-align: middle;\n",
       "    }\n",
       "\n",
       "    .dataframe tbody tr th {\n",
       "        vertical-align: top;\n",
       "    }\n",
       "\n",
       "    .dataframe thead th {\n",
       "        text-align: right;\n",
       "    }\n",
       "</style>\n",
       "<table border=\"1\" class=\"dataframe\">\n",
       "  <thead>\n",
       "    <tr style=\"text-align: right;\">\n",
       "      <th></th>\n",
       "      <th>feature</th>\n",
       "      <th>importance</th>\n",
       "    </tr>\n",
       "  </thead>\n",
       "  <tbody>\n",
       "    <tr>\n",
       "      <th>10</th>\n",
       "      <td>fam_size</td>\n",
       "      <td>0.450305</td>\n",
       "    </tr>\n",
       "    <tr>\n",
       "      <th>4</th>\n",
       "      <td>_30007_perc</td>\n",
       "      <td>0.146059</td>\n",
       "    </tr>\n",
       "    <tr>\n",
       "      <th>5</th>\n",
       "      <td>_21610_perc</td>\n",
       "      <td>0.133741</td>\n",
       "    </tr>\n",
       "    <tr>\n",
       "      <th>0</th>\n",
       "      <td>age</td>\n",
       "      <td>0.111622</td>\n",
       "    </tr>\n",
       "    <tr>\n",
       "      <th>3</th>\n",
       "      <td>unreachable_perc</td>\n",
       "      <td>0.110553</td>\n",
       "    </tr>\n",
       "    <tr>\n",
       "      <th>6</th>\n",
       "      <td>_30008_perc</td>\n",
       "      <td>0.035651</td>\n",
       "    </tr>\n",
       "    <tr>\n",
       "      <th>1</th>\n",
       "      <td>isv</td>\n",
       "      <td>0.009668</td>\n",
       "    </tr>\n",
       "    <tr>\n",
       "      <th>2</th>\n",
       "      <td>parent</td>\n",
       "      <td>0.001814</td>\n",
       "    </tr>\n",
       "    <tr>\n",
       "      <th>8</th>\n",
       "      <td>fraud_perc</td>\n",
       "      <td>0.000505</td>\n",
       "    </tr>\n",
       "    <tr>\n",
       "      <th>7</th>\n",
       "      <td>aup_perc</td>\n",
       "      <td>0.000065</td>\n",
       "    </tr>\n",
       "    <tr>\n",
       "      <th>11</th>\n",
       "      <td>default_name</td>\n",
       "      <td>0.000017</td>\n",
       "    </tr>\n",
       "    <tr>\n",
       "      <th>9</th>\n",
       "      <td>cannabis</td>\n",
       "      <td>0.000000</td>\n",
       "    </tr>\n",
       "  </tbody>\n",
       "</table>\n",
       "</div>"
      ],
      "text/plain": [
       "             feature  importance\n",
       "10          fam_size    0.450305\n",
       "4        _30007_perc    0.146059\n",
       "5        _21610_perc    0.133741\n",
       "0                age    0.111622\n",
       "3   unreachable_perc    0.110553\n",
       "6        _30008_perc    0.035651\n",
       "1                isv    0.009668\n",
       "2             parent    0.001814\n",
       "8         fraud_perc    0.000505\n",
       "7           aup_perc    0.000065\n",
       "11      default_name    0.000017\n",
       "9           cannabis    0.000000"
      ]
     },
     "execution_count": 109,
     "metadata": {},
     "output_type": "execute_result"
    }
   ],
   "source": [
    "feature_importance = pd.DataFrame({\"feature\": x_test.columns,\n",
    "                                 \"importance\": reg.feature_importances_})\n",
    "feature_importance.sort_values(by='importance',ascending = False)"
   ]
  },
  {
   "cell_type": "code",
   "execution_count": 117,
   "id": "70bf8d51",
   "metadata": {},
   "outputs": [
    {
     "data": {
      "text/html": [
       "<div>\n",
       "<style scoped>\n",
       "    .dataframe tbody tr th:only-of-type {\n",
       "        vertical-align: middle;\n",
       "    }\n",
       "\n",
       "    .dataframe tbody tr th {\n",
       "        vertical-align: top;\n",
       "    }\n",
       "\n",
       "    .dataframe thead th {\n",
       "        text-align: right;\n",
       "    }\n",
       "</style>\n",
       "<table border=\"1\" class=\"dataframe\">\n",
       "  <thead>\n",
       "    <tr style=\"text-align: right;\">\n",
       "      <th></th>\n",
       "      <th>account_sid</th>\n",
       "      <th>optout_perc</th>\n",
       "      <th>boosting_predict</th>\n",
       "    </tr>\n",
       "  </thead>\n",
       "  <tbody>\n",
       "    <tr>\n",
       "      <th>10267</th>\n",
       "      <td>AC763423831e38f447f85bb4ebeb45737c</td>\n",
       "      <td>0.002157</td>\n",
       "      <td>0.120134</td>\n",
       "    </tr>\n",
       "    <tr>\n",
       "      <th>39609</th>\n",
       "      <td>AC46acadec3cdab554736b13c051102467</td>\n",
       "      <td>0.082926</td>\n",
       "      <td>0.059568</td>\n",
       "    </tr>\n",
       "    <tr>\n",
       "      <th>2895</th>\n",
       "      <td>AC53860d3e328496083d19fb730d7319bd</td>\n",
       "      <td>0.033782</td>\n",
       "      <td>0.056982</td>\n",
       "    </tr>\n",
       "    <tr>\n",
       "      <th>29995</th>\n",
       "      <td>AC0df48620040d2c7b52a959a0e31e1ce5</td>\n",
       "      <td>0.077402</td>\n",
       "      <td>0.054968</td>\n",
       "    </tr>\n",
       "    <tr>\n",
       "      <th>35303</th>\n",
       "      <td>AC8cf6f7e2a88eb41d7779aae30d356ef0</td>\n",
       "      <td>0.069713</td>\n",
       "      <td>0.053910</td>\n",
       "    </tr>\n",
       "    <tr>\n",
       "      <th>35201</th>\n",
       "      <td>AC5748e0a84fbd674d59aa8526ab3f0f65</td>\n",
       "      <td>0.051106</td>\n",
       "      <td>0.053206</td>\n",
       "    </tr>\n",
       "    <tr>\n",
       "      <th>44447</th>\n",
       "      <td>ACf3b5c498aaa1e38a8ceb931056d0e389</td>\n",
       "      <td>0.124632</td>\n",
       "      <td>0.051953</td>\n",
       "    </tr>\n",
       "    <tr>\n",
       "      <th>5654</th>\n",
       "      <td>AC13e3a569f91346cab18555da93dc4331</td>\n",
       "      <td>0.054573</td>\n",
       "      <td>0.050883</td>\n",
       "    </tr>\n",
       "    <tr>\n",
       "      <th>62068</th>\n",
       "      <td>ACdf10025ba38ddc3df13ed5916b2db215</td>\n",
       "      <td>0.049590</td>\n",
       "      <td>0.048418</td>\n",
       "    </tr>\n",
       "    <tr>\n",
       "      <th>26167</th>\n",
       "      <td>AC169e1ba7740f880ab9613ad1b35b14fd</td>\n",
       "      <td>0.037413</td>\n",
       "      <td>0.048354</td>\n",
       "    </tr>\n",
       "  </tbody>\n",
       "</table>\n",
       "</div>"
      ],
      "text/plain": [
       "                              account_sid  optout_perc  boosting_predict\n",
       "10267  AC763423831e38f447f85bb4ebeb45737c     0.002157          0.120134\n",
       "39609  AC46acadec3cdab554736b13c051102467     0.082926          0.059568\n",
       "2895   AC53860d3e328496083d19fb730d7319bd     0.033782          0.056982\n",
       "29995  AC0df48620040d2c7b52a959a0e31e1ce5     0.077402          0.054968\n",
       "35303  AC8cf6f7e2a88eb41d7779aae30d356ef0     0.069713          0.053910\n",
       "35201  AC5748e0a84fbd674d59aa8526ab3f0f65     0.051106          0.053206\n",
       "44447  ACf3b5c498aaa1e38a8ceb931056d0e389     0.124632          0.051953\n",
       "5654   AC13e3a569f91346cab18555da93dc4331     0.054573          0.050883\n",
       "62068  ACdf10025ba38ddc3df13ed5916b2db215     0.049590          0.048418\n",
       "26167  AC169e1ba7740f880ab9613ad1b35b14fd     0.037413          0.048354"
      ]
     },
     "execution_count": 117,
     "metadata": {},
     "output_type": "execute_result"
    }
   ],
   "source": [
    "get_top('boosting_predict')"
   ]
  }
 ],
 "metadata": {
  "kernelspec": {
   "display_name": "Python 3",
   "language": "python",
   "name": "python3"
  },
  "language_info": {
   "codemirror_mode": {
    "name": "ipython",
    "version": 3
   },
   "file_extension": ".py",
   "mimetype": "text/x-python",
   "name": "python",
   "nbconvert_exporter": "python",
   "pygments_lexer": "ipython3",
   "version": "3.9.5"
  }
 },
 "nbformat": 4,
 "nbformat_minor": 5
}
